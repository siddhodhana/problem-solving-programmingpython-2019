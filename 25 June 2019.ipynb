{
 "cells": [
  {
   "cell_type": "code",
   "execution_count": null,
   "metadata": {},
   "outputs": [],
   "source": [
    "Given a string, s , consisting of alphabets and digits, find the frequency of each digit in the given string.\n",
    "\n",
    "Input Format\n",
    "\n",
    "The first line contains a string, num, which is the given number.\n",
    "\n",
    "Constraints\n",
    "\n",
    "1<=len(num)<=1000\n",
    "\n",
    "All the elements of num are made of english alphabets and digits.\n",
    "\n",
    "\n",
    "Output Format\n",
    "\n",
    "Print ten space-separated integers in a single line denoting the frequency of each digit from 0 to 9\n",
    "\n"
   ]
  },
  {
   "cell_type": "code",
   "execution_count": 14,
   "metadata": {},
   "outputs": [
    {
     "name": "stdout",
     "output_type": "stream",
     "text": [
      "0 4 1 1 1 1 1 0 0 0 "
     ]
    }
   ],
   "source": [
    "# s = 213abc456def111\n",
    "# 0 4 1 1 1 1 1 0 0 0 -> Frequency of sorted numbers\n",
    "# count(1) -> 1 4 1 1 1 1 4 4 4  \n",
    "\n",
    "# s = c\n",
    "# 0 0 0 0 0 0 0 0 0 0\n",
    "\n",
    "# s = 1234567890\n",
    "# 1 1 1 1 1 1 1 1 1 1 \n",
    "def uniqueData(allnumbers):\n",
    "    unique = []\n",
    "    for n in allnumbers:\n",
    "        if n not in unique:\n",
    "            unique.append(n)\n",
    "    return unique\n",
    "\n",
    "def digitFrequency1(s):\n",
    "    allnumbers = []\n",
    "    for i in s:\n",
    "        if i.isdigit():\n",
    "            allnumbers.append(i)\n",
    "    unique = uniqueData(allnumbers)\n",
    "    for i in range(0, 10):\n",
    "        if str(i) not in unique:\n",
    "            print(0, end=' ')\n",
    "        else:\n",
    "            count = allnumbers.count(str(i))\n",
    "            print(count, end=' ')\n",
    "    return\n",
    "\n",
    "digitFrequency1('213abc456def111')\n"
   ]
  },
  {
   "cell_type": "code",
   "execution_count": 2,
   "metadata": {},
   "outputs": [
    {
     "data": {
      "text/plain": [
       "False"
      ]
     },
     "execution_count": 2,
     "metadata": {},
     "output_type": "execute_result"
    }
   ],
   "source": [
    "#function to check if two strings are equal r not\n",
    "#abc cba ->>true\n",
    "# abc abc\n",
    "#aabbcc ccbbaaa-->false\n",
    "def checkanagram(s1,s2):\n",
    "    if len(s1)!=len(s2):\n",
    "        return False\n",
    "    if sorted(s1)==sorted(s2):\n",
    "        return True\n",
    "    return False\n",
    "checkanagram('abc','bcc')\n",
    "    \n"
   ]
  },
  {
   "cell_type": "code",
   "execution_count": 8,
   "metadata": {},
   "outputs": [
    {
     "data": {
      "text/plain": [
       "4"
      ]
     },
     "execution_count": 8,
     "metadata": {},
     "output_type": "execute_result"
    }
   ],
   "source": [
    "def chardeletionsanagrams(s1,s2):\n",
    "    uncommon=[]\n",
    "    for i in s1:\n",
    "        if i not in s2:\n",
    "            uncommon.append(i)\n",
    "    for i in s2:\n",
    "        if i not in s1:\n",
    "            uncommon.append(i)\n",
    "    count=len(uncommon)\n",
    "    #freq1-->frequency of common \n",
    "    freqs1={}\n",
    "    freqs2={}\n",
    "    #unique char in s1 and s2\n",
    "    uniqs1=[]\n",
    "    uniqs2=[]\n",
    "    #frequency of unique charcters in s1\n",
    "    for i in s1:\n",
    "        if i not in uncommon and i not in uniqs1:\n",
    "            freqs1[i]=s1.count(i)\n",
    "            uniqs1.append(i)\n",
    "    #frequency of unique charcters in s2        \n",
    "    for i in s2:\n",
    "        if i not in uncommon and i not in uniqs2:\n",
    "            freqs2[i]=s2.count(i)\n",
    "            uniqs2.append(i)\n",
    "    # difference in frequencies for common characters         \n",
    "    for key in freqs1.keys():\n",
    "        count+=abs(freqs1[key]-freqs2[key])\n",
    "            \n",
    "    return count      \n",
    "            \n",
    "chardeletionsanagrams('cde','abc')            \n",
    "              "
   ]
  },
  {
   "cell_type": "code",
   "execution_count": 9,
   "metadata": {},
   "outputs": [
    {
     "data": {
      "text/plain": [
       "5"
      ]
     },
     "execution_count": 9,
     "metadata": {},
     "output_type": "execute_result"
    }
   ],
   "source": [
    "def avgrange(lb,ub):\n",
    "    sum=0\n",
    "    for i in range(lb,ub+1):\n",
    "        sum+=i\n",
    "    count=ub-lb+1\n",
    "    return sum//count\n",
    "avgrange(1,10)\n",
    "    "
   ]
  },
  {
   "cell_type": "code",
   "execution_count": null,
   "metadata": {},
   "outputs": [],
   "source": [
    "# largest number in alist\n",
    "#second largest number in a list\n",
    "#kth largest number in alist\n",
    "\n",
    "# element with highest frequency\n",
    "#second highest frequency\n",
    "#kth highest frequency\n",
    "\n",
    "#{a:4, g:9,i:6,p:213,c:6}\n",
    "#[4,6,6,9,213]\n",
    "#[a,c,g,i,p]\n",
    "#k=3\n",
    "# li=[]\n",
    "#for item in d.items():\n",
    "#if item[1]==6:\n",
    "#      "
   ]
  },
  {
   "cell_type": "code",
   "execution_count": 6,
   "metadata": {},
   "outputs": [],
   "source": [
    "file='Datafiles/sample.txt'"
   ]
  },
  {
   "cell_type": "code",
   "execution_count": 11,
   "metadata": {},
   "outputs": [
    {
     "name": "stdout",
     "output_type": "stream",
     "text": [
      "1\n",
      "dddfflk\n",
      "2\n",
      "-1\n"
     ]
    }
   ],
   "source": [
    "def klargefrequency(s,k):\n",
    "    #construct the frequency dictionry\n",
    "    unique=[]\n",
    "    freq={}\n",
    "    for i in s:\n",
    "        if i not in freq.keys():\n",
    "            freq[i]=s.count(i)\n",
    "            unique.append(i)\n",
    "    values=sorted(freq.values(),reverse=True)\n",
    "    uniquevalues=list(set(values))\n",
    "    uniquevalues=sorted(uniquevalues,reverse=True)\n",
    "    if k<len(uniquevalues):\n",
    "        return -1\n",
    "    else:\n",
    "        kvalue=uniquevalues[k-1]\n",
    "        for item in freq.items():\n",
    "            if item[1]==kvalue:\n",
    "                li.append(item[0])\n",
    "        return min(li)\n",
    "\n",
    "with open(file,'r') as f:\n",
    "    t=int(input())\n",
    "    for i in range(t):\n",
    "        s=input()\n",
    "        k=int(input())\n",
    "        print(klargefrequency(s,k))\n",
    "    "
   ]
  },
  {
   "cell_type": "code",
   "execution_count": null,
   "metadata": {},
   "outputs": [],
   "source": []
  },
  {
   "cell_type": "code",
   "execution_count": null,
   "metadata": {},
   "outputs": [],
   "source": []
  },
  {
   "cell_type": "code",
   "execution_count": null,
   "metadata": {},
   "outputs": [],
   "source": []
  }
 ],
 "metadata": {
  "kernelspec": {
   "display_name": "Python 3",
   "language": "python",
   "name": "python3"
  },
  "language_info": {
   "codemirror_mode": {
    "name": "ipython",
    "version": 3
   },
   "file_extension": ".py",
   "mimetype": "text/x-python",
   "name": "python",
   "nbconvert_exporter": "python",
   "pygments_lexer": "ipython3",
   "version": "3.7.3"
  }
 },
 "nbformat": 4,
 "nbformat_minor": 2
}

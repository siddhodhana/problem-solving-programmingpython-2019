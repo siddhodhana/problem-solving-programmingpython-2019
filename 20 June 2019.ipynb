{
 "cells": [
  {
   "cell_type": "markdown",
   "metadata": {},
   "source": [
    "### Day Objectives\n",
    "\n",
    "- Regular Expressions\n",
    "- Constructing Regular Expressions for various use cases\n",
    "- Regular Expressions Module and related in Python\n",
    "- Improving the contacts applications with name and phone number validation using \n",
    "- File Handling\n",
    "- Text Files\n",
    "- Upgrading the contacts applications to store contact information in a text tile\n",
    "  "
   ]
  },
  {
   "cell_type": "markdown",
   "metadata": {},
   "source": [
    "### Regular Expressions\n",
    "\n",
    "- Pattern Matching\n",
    "- Symbolic Notation of a pattern\n",
    "        - Pattern: Format which repeats\n",
    "        - Pattern (RE) represents The set of all strings matches that pattern\n",
    "- [0-9] -->Any digit\n",
    "- [a-z] -->Any lower case alphabet\n",
    "\n",
    "- [2468] -->All single digit multiples of 2\n",
    "\n",
    "- ^[0-9]{1}$ -->only single digit number\n",
    "\n",
    "- ^[0-9]{3}$ -->which is used for 3digit number\n",
    "\n",
    "- [0-9]*0$ -->All multiples of 10\n",
    "\n",
    "- ^[1-9][0-9]*[05]$|^([5])$-->all multiples of 5\n",
    "\n",
    "- ^[1-9][0-9]{9}$-->all 10 digit\n",
    "\n",
    "- p][r][i][n][t]-->to print\n",
    "-  [w][o][r][d] or (word)-->searching for a 'word'\n",
    "- ^[6-9][0-9]{9}$ 9492904347\n",
    "- ^[+][9][1][6-9][0-9]{9}$ +919492904347\n",
    "- ^(+91)[6-9][0-9]{9}$ another condition-->validating phone number (India)(start with 9877 followed by 9\n",
    "-            -->Email validation (username@domain.extension\n",
    "      \n",
    "- ^[0-9a-z][0-9a-z_.]{4,13}[0-9a-z]$            \n",
    "             - user name\n",
    "                  - Length of username:[6,15]\n",
    "                  - No special character other than _.\n",
    "                  - Should not begin with _.\n",
    "                  - Character set:all digits and lower case alphabet\n",
    "- ^             - domain\n",
    "                  - Length of domain :[3,18]\n",
    "                  - No special characters\n",
    "                  - character set : all digits and lower case alphabets\n",
    "             - extension\n",
    "                  - Length of exttension : [2,4]\n",
    "                  - No special characters\n",
    "                  - character set : alphabet \n",
    " - any char any no of times in btw a to z ^[a]...........*[z]$\n",
    "- ^[a]...[z]$-->any string of length 5 that starts with a to z                 \n",
    "- ^                  "
   ]
  },
  {
   "cell_type": "code",
   "execution_count": 37,
   "metadata": {},
   "outputs": [
    {
     "data": {
      "text/plain": [
       "True"
      ]
     },
     "execution_count": 37,
     "metadata": {},
     "output_type": "execute_result"
    }
   ],
   "source": [
    "#Function to validate a phone number\n",
    "import re\n",
    "def phonenumbervalidator(num):\n",
    "    pattern='[9876][0-9]{9}$|^[0][6-9][0-9]{9}$|^[+][9][1][6-9][0-9]{9}$'\n",
    "    if re.match(pattern,str(num)):\n",
    "                return True\n",
    "                #print(\"valid number\")\n",
    "    else:\n",
    "        return False\n",
    "        #print(\"Invalid number\")            \n",
    "    return\n",
    "def emailval(email):\n",
    "                pattern='^[0-9a-z][0-9a-z_.]{4,13}[0-9a-z]@[0-9a-z]{3,18}[.][a-z]{2,4}$'\n",
    "                if re.match(pattern,email):\n",
    "                    return True\n",
    "                else:\n",
    "                    return False\n",
    "emailval(\"siddu.dad999@gmail.com\")\n"
   ]
  },
  {
   "cell_type": "code",
   "execution_count": 40,
   "metadata": {},
   "outputs": [
    {
     "name": "stdout",
     "output_type": "stream",
     "text": [
      "name already exists\n"
     ]
    }
   ],
   "source": [
    "contacts={\"name\":[9492904347,'name1@domainin.ext'],\"name2\":[7702072905,\"name2@domainin.txt\"]}\n",
    "\n",
    "def addcontact(name,phone,email):\n",
    "    if name in contacts:\n",
    "        print(name,\"already exists\")\n",
    "    #verify that the contact doesnot already existed\n",
    "    if name not in contacts and phonenumbervalidator(phone):\n",
    "        contacts[name]=phone\n",
    "        print(\"contact %s added\" % name)\n",
    "    if not phonenumbervalidator(phone):\n",
    "        print(\"phonenumber is invalid\")\n",
    "    return\n",
    "\n",
    "addcontact(\"name\",9492904347,'siddu.dad999@gmail.com')"
   ]
  },
  {
   "cell_type": "code",
   "execution_count": null,
   "metadata": {},
   "outputs": [],
   "source": []
  },
  {
   "cell_type": "code",
   "execution_count": 41,
   "metadata": {},
   "outputs": [
    {
     "name": "stdout",
     "output_type": "stream",
     "text": [
      "{'name': [9492904347, 'name1@domainin.ext'], 'name2': [7702072905, 'name2@domainin.txt'], 'sv': ['siddhodhana999@gmail.com', 8500787144]}\n"
     ]
    }
   ],
   "source": [
    "contacts={\"name\":[9492904347,'name1@domainin.ext'],\"name2\":[7702072905,\"name2@domainin.txt\"]}\n",
    "\n",
    "def addcontact(name,phone,email):\n",
    "    if name in contacts:\n",
    "        print(name,\"already exists\")\n",
    "    else:\n",
    "        if not phonenumbervalidator(phone):\n",
    "            print(\"phone number is invalid\")\n",
    "        if not emailval(email):\n",
    "            print(\"email is valid\")\n",
    "        newcontact=[]\n",
    "        newcontact.append(email)\n",
    "        newcontact.append(phone)\n",
    "        contacts[name]=newcontact\n",
    "        print(contacts)\n",
    "        return\n",
    "addcontact(\"sv\",8500787144,'siddhodhana999@gmail.com') "
   ]
  },
  {
   "cell_type": "code",
   "execution_count": 42,
   "metadata": {},
   "outputs": [
    {
     "name": "stdout",
     "output_type": "stream",
     "text": [
      "name1 doesnot exist\n"
     ]
    }
   ],
   "source": [
    "def searchcontacts(name):\n",
    "    if name in contacts:\n",
    "        print(name)\n",
    "        print(\"phone :\", contacts[name][0])\n",
    "        print(\"email :\", contacts[name][1])      \n",
    "    else:\n",
    "        print(\"%s doesnot exist\" % name)\n",
    "    return\n",
    "\n",
    "searchcontacts(\"name1\")"
   ]
  },
  {
   "cell_type": "code",
   "execution_count": 43,
   "metadata": {},
   "outputs": [
    {
     "name": "stdout",
     "output_type": "stream",
     "text": [
      "1 contacts added successfully\n"
     ]
    },
    {
     "data": {
      "text/plain": [
       "dict_items([('name', [9492904347, 'name1@domainin.ext']), ('name2', [7702072905, 'name2@domainin.txt']), ('sv', ['siddhodhana999@gmail.com', 8500787144]), ('name4', [9493978076, 'name4_123@gmail.com'])])"
      ]
     },
     "execution_count": 43,
     "metadata": {},
     "output_type": "execute_result"
    }
   ],
   "source": [
    "# new contacts is given as dictionary\n",
    "#merge new contacts with existing contacts\n",
    "def importcontacts(newcontacts):\n",
    "    contacts.update(newcontacts)\n",
    "    print(len(newcontacts.keys()),\"contacts added successfully\")\n",
    "    return\n",
    "\n",
    "newcontacts={\"name4\":[9493978076,'name4_123@gmail.com']}\n",
    "\n",
    "importcontacts(newcontacts)\n",
    "contacts.items()\n",
    "    "
   ]
  },
  {
   "cell_type": "code",
   "execution_count": 44,
   "metadata": {},
   "outputs": [
    {
     "name": "stdout",
     "output_type": "stream",
     "text": [
      "name \n",
      " phone: 9492904347 \n",
      " email : name1@domainin.ext\n",
      "name2 \n",
      " phone: 7702072905 \n",
      " email : name2@domainin.txt\n",
      "sv \n",
      " phone: siddhodhana999@gmail.com \n",
      " email : 8500787144\n",
      "name4 \n",
      " phone: 9493978076 \n",
      " email : name4_123@gmail.com\n"
     ]
    }
   ],
   "source": [
    "#Function to list all contacts\n",
    "def listallcontacts():\n",
    "    for contact,info in contacts.items():\n",
    "        print(contact, \"\\n\",\"phone:\",info[0],\"\\n\", \"email :\", info[1])\n",
    "    return\n",
    "listallcontacts()\n",
    "    "
   ]
  },
  {
   "cell_type": "code",
   "execution_count": null,
   "metadata": {
    "scrolled": true
   },
   "outputs": [],
   "source": [
    "#Function to edit contact information\n",
    "#def editcontact(name,phone,email):\n",
    "\n"
   ]
  },
  {
   "cell_type": "markdown",
   "metadata": {},
   "source": [
    "#### File Handling in Python\n",
    "\n",
    "File- Document containing information residing on the permanent storage \n",
    "Types-Text,Pdf,Csv(thread sheets) etc\n",
    "\n",
    "File I/O-Channelling I/O data to files \n",
    "Default I/O channels-Keyboard/screen\n",
    "\n",
    "change I/O channel to files for reading and writing\n",
    "\n",
    "Read a file-Input from file\n",
    "write to a file-output to a file\n",
    "\n",
    "Read/write a file -open(filename,mode)"
   ]
  },
  {
   "cell_type": "markdown",
   "metadata": {},
   "source": []
  },
  {
   "cell_type": "code",
   "execution_count": 20,
   "metadata": {},
   "outputs": [
    {
     "name": "stdout",
     "output_type": "stream",
     "text": [
      "line 1\n",
      "line 2\n",
      "line 3\n"
     ]
    }
   ],
   "source": [
    "#Function to read file\n",
    "def readfile(filename):\n",
    "    f=open(filename,'r')#r means read file\n",
    "    filedata=f.read()\n",
    "    f.close()\n",
    "    return filedata\n",
    "\n",
    "    \n",
    "filename='Datafiles/data.txt'\n",
    "filedata=readfile(filename)\n",
    "#for line in filedata.split('\\n'):\n",
    " #   print(line)\n",
    "    \n",
    "    \n",
    "def printfiledatalines(filename):\n",
    "    with open(filename, 'r') as f:\n",
    "        for line in f:\n",
    "            print(line,end='')\n",
    "    return\n",
    "printfiledatalines(filename)   "
   ]
  },
  {
   "cell_type": "code",
   "execution_count": 12,
   "metadata": {},
   "outputs": [
    {
     "data": {
      "text/plain": [
       "['line 1', 'line 2', 'line 3', '']"
      ]
     },
     "execution_count": 12,
     "metadata": {},
     "output_type": "execute_result"
    }
   ],
   "source": [
    "#Fnction to read file\n",
    "def readfile(filename):\n",
    "    f=open(filename,'r')#r means read file\n",
    "    filedata=f.read()\n",
    "    f.close()\n",
    "    retrn filedata\n",
    "\n",
    "    \n",
    "filename='Datafiles/data.txt'\n",
    "filedata=readfile(filename)\n",
    "filedata.split('\\n')"
   ]
  },
  {
   "cell_type": "code",
   "execution_count": 31,
   "metadata": {},
   "outputs": [],
   "source": [
    "#function to write data into file\n",
    "def writeintofile(filename,filedata):\n",
    "    with open(filename, 'w') as f:\n",
    "        f.write(filedata)\n",
    "    return  \n",
    "filename ='Datafiles/data.txt'\n",
    "writeintofile(filename,\"new data\\n\")"
   ]
  },
  {
   "cell_type": "code",
   "execution_count": 32,
   "metadata": {},
   "outputs": [],
   "source": [
    "#Function to append data to a file\n",
    "def appenddatatofile(filename,filedata):\n",
    "    with open(filename, 'a') as f:\n",
    "        f.write(filedata)\n",
    "    return\n",
    "filedata= \"Line2\\nLine3\"\n",
    "appenddatatofile(filename,filedata)"
   ]
  },
  {
   "cell_type": "code",
   "execution_count": null,
   "metadata": {},
   "outputs": [],
   "source": [
    "#Function to append data to a file(in list formate)\n",
    "def appenddatatofile(filename,filedata):\n",
    "    for open(filename, 'a') as f:\n",
    "        f.write(\\n'+i)\n",
    "    return\n",
    "filedata= [\"Line1\",\"Line2\"]\n",
    "appenddatatofile(filename,filedata)"
   ]
  }
 ],
 "metadata": {
  "kernelspec": {
   "display_name": "Python 3",
   "language": "python",
   "name": "python3"
  },
  "language_info": {
   "codemirror_mode": {
    "name": "ipython",
    "version": 3
   },
   "file_extension": ".py",
   "mimetype": "text/x-python",
   "name": "python",
   "nbconvert_exporter": "python",
   "pygments_lexer": "ipython3",
   "version": "3.7.3"
  }
 },
 "nbformat": 4,
 "nbformat_minor": 2
}

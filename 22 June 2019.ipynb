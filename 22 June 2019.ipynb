{
 "cells": [
  {
   "cell_type": "markdown",
   "metadata": {},
   "source": [
    "### Day Objectives\n",
    "\n",
    "- File handling\n",
    "     - Basic File Data Processing\n",
    "          - Accessing and Modifying file data\n",
    "     - Character count\n",
    "     - Line count\n",
    "     - Filesize\n",
    "     - Word count\n",
    "     - Unique wordcount"
   ]
  },
  {
   "cell_type": "code",
   "execution_count": 21,
   "metadata": {},
   "outputs": [
    {
     "name": "stdout",
     "output_type": "stream",
     "text": [
      "new data\n",
      "Line2\n",
      "Line3\n"
     ]
    }
   ],
   "source": [
    "# Read file -File should exist(read mode)\n",
    "# write to a file -existing(append) or new file(write mode)\n",
    "def readfile(filepath):\n",
    "    with open (filepath, 'r') as f:\n",
    "        filedata=f.read()\n",
    "    return filedata\n",
    "\n",
    "filepath='Datafiles/data.txt'\n",
    "print(readfile(filepath))\n"
   ]
  },
  {
   "cell_type": "code",
   "execution_count": null,
   "metadata": {},
   "outputs": [],
   "source": []
  },
  {
   "cell_type": "code",
   "execution_count": 38,
   "metadata": {},
   "outputs": [
    {
     "name": "stdout",
     "output_type": "stream",
     "text": [
      "Number of words:\n",
      "0\n"
     ]
    }
   ],
   "source": [
    "filepath='Datafiles/data.txt'\n",
    "\n",
    "def charcount(filepath):\n",
    "    nw=0\n",
    "    with open(filepath, 'r') as f:\n",
    "        filedata=f.readlines()\n",
    "        for line in f:\n",
    "            nw=nw+1\n",
    "print(\"Number of words:\")\n",
    "print(numwords)                                                                                                                                                                                                                                                                                              \n",
    "charcount(filepath)"
   ]
  },
  {
   "cell_type": "code",
   "execution_count": 54,
   "metadata": {},
   "outputs": [],
   "source": [
    "filepath='Datafiles/sample.txt'\n",
    "with open(filepath,\"r\") as fh:\n",
    "    lineno=1\n",
    "    lines=fh.readlines()\n",
    "    #below code for writing\n",
    "fw=open(filepath,\"w\") \n",
    "for line in lines:\n",
    "    print(lineno,line,end=\"\",sep=\".\",file=fw)\n",
    "    lineno+=1\n",
    "fw.close()    "
   ]
  },
  {
   "cell_type": "code",
   "execution_count": 30,
   "metadata": {},
   "outputs": [
    {
     "data": {
      "text/plain": [
       "'Datafiles/data.txt'"
      ]
     },
     "execution_count": 30,
     "metadata": {},
     "output_type": "execute_result"
    }
   ],
   "source": [
    "filepath"
   ]
  },
  {
   "cell_type": "code",
   "execution_count": 33,
   "metadata": {},
   "outputs": [
    {
     "name": "stdout",
     "output_type": "stream",
     "text": [
      "h\n",
      "e\n",
      "l\n",
      "l\n",
      "o\n"
     ]
    }
   ],
   "source": [
    "s=\"hello\"\n",
    "for i in s:\n",
    "    print(i)"
   ]
  },
  {
   "cell_type": "code",
   "execution_count": 44,
   "metadata": {},
   "outputs": [
    {
     "name": "stdout",
     "output_type": "stream",
     "text": [
      "20\n"
     ]
    }
   ],
   "source": [
    "filepath='Datafiles/data.txt'\n",
    "def charcount(filepath):\n",
    "    charcount=readfile(filepath)\n",
    "    print(len(charcount))\n",
    "charcount(filepath)    "
   ]
  },
  {
   "cell_type": "code",
   "execution_count": 59,
   "metadata": {},
   "outputs": [
    {
     "name": "stdout",
     "output_type": "stream",
     "text": [
      "1 2 3 4 5 6 7\n",
      "2\n",
      "1 3\n",
      "6\n",
      "4 6\n",
      "15\n"
     ]
    }
   ],
   "source": [
    "s=input().split()\n",
    "t=int(input())\n",
    "#total=0\n",
    "for i in range(t):\n",
    "    x=list(map(int,input().split()))\n",
    "    total=0\n",
    "    for j in range (x[0],x[1]+1):\n",
    "        total+=int(s[j-1])\n",
    "    print(total)"
   ]
  },
  {
   "cell_type": "markdown",
   "metadata": {},
   "source": []
  }
 ],
 "metadata": {
  "kernelspec": {
   "display_name": "Python 3",
   "language": "python",
   "name": "python3"
  },
  "language_info": {
   "codemirror_mode": {
    "name": "ipython",
    "version": 3
   },
   "file_extension": ".py",
   "mimetype": "text/x-python",
   "name": "python",
   "nbconvert_exporter": "python",
   "pygments_lexer": "ipython3",
   "version": "3.7.3"
  }
 },
 "nbformat": 4,
 "nbformat_minor": 2
}

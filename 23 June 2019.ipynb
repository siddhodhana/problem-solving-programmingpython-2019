{
 "cells": [
  {
   "cell_type": "markdown",
   "metadata": {},
   "source": [
    "### Day Objectives\n",
    "\n",
    "- Unique data Extraction\n",
    "- count unique words in a text file\n",
    "- Frequency Distribution of words in a text file"
   ]
  },
  {
   "cell_type": "code",
   "execution_count": 1,
   "metadata": {},
   "outputs": [
    {
     "ename": "IndentationError",
     "evalue": "expected an indented block (<ipython-input-1-1569f405e80c>, line 14)",
     "output_type": "error",
     "traceback": [
      "\u001b[1;36m  File \u001b[1;32m\"<ipython-input-1-1569f405e80c>\"\u001b[1;36m, line \u001b[1;32m14\u001b[0m\n\u001b[1;33m    allwords=wordsfromfile(filepath)\u001b[0m\n\u001b[1;37m           ^\u001b[0m\n\u001b[1;31mIndentationError\u001b[0m\u001b[1;31m:\u001b[0m expected an indented block\n"
     ]
    }
   ],
   "source": [
    "def Frequencydistributionofwords(filepath):\n",
    " #dictionary  to b used \n",
    "    #keys->unique words\n",
    "    #values->count of unique words\n",
    "  \n",
    " # two lists\n",
    "       #Allwords list\n",
    "       #Uniquewords list\n",
    "# set\n",
    "\n",
    "# Function to count the number of words in a file\n",
    "\n",
    "\n",
    "allwords=wordsfromfile(filepath)\n",
    "uniquewords=uniquedata(filepath)\n",
    "\n",
    "for word in uniquewords:\n",
    "    count=allwords.count(word)\n",
    "    print(word,':',count)\n",
    "return\n",
    "\n",
    "Frequencydistributionofwords(filepath)\n"
   ]
  },
  {
   "cell_type": "code",
   "execution_count": null,
   "metadata": {},
   "outputs": [],
   "source": [
    "#using dictionary Frequency distrubitionofwords\n",
    "def Frequencydistributionofwords2(filepath):\n",
    "    allwords=wordsfromfile(filepath)\n",
    "    wordfrequency={}\n",
    "    \n",
    "    for word in allwords:\n",
    "        if word not in wordfrequency.keys():\n",
    "            wordfrequency[word]=1\n",
    "        else:\n",
    "            wordfrequency[word]+=1\n",
    "    return wordfrequency      \n",
    "            \n",
    "Frequencydistributionofwords2(filepath)    \n",
    "    "
   ]
  },
  {
   "cell_type": "code",
   "execution_count": null,
   "metadata": {},
   "outputs": [],
   "source": []
  },
  {
   "cell_type": "code",
   "execution_count": 12,
   "metadata": {},
   "outputs": [],
   "source": []
  }
 ],
 "metadata": {
  "kernelspec": {
   "display_name": "Python 3",
   "language": "python",
   "name": "python3"
  },
  "language_info": {
   "codemirror_mode": {
    "name": "ipython",
    "version": 3
   },
   "file_extension": ".py",
   "mimetype": "text/x-python",
   "name": "python",
   "nbconvert_exporter": "python",
   "pygments_lexer": "ipython3",
   "version": "3.7.3"
  }
 },
 "nbformat": 4,
 "nbformat_minor": 2
}

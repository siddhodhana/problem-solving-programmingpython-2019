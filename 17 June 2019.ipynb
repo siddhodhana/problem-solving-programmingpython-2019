{
 "cells": [
  {
   "cell_type": "code",
   "execution_count": null,
   "metadata": {},
   "outputs": [],
   "source": [
    "\n",
    "s=input().split()\n",
    "for i in range(len(s)):\n",
    "    s[i]=int(s[i])\n",
    "    "
   ]
  },
  {
   "cell_type": "code",
   "execution_count": null,
   "metadata": {},
   "outputs": [],
   "source": [
    "def perfect(n):\n",
    "    for i in range(1,n):\n",
    "        if n%i==0:\n",
    "            s=s+i\n",
    "    return s==n\n",
    "perfect(6)"
   ]
  },
  {
   "cell_type": "code",
   "execution_count": null,
   "metadata": {},
   "outputs": [],
   "source": [
    "dir(str)\n"
   ]
  },
  {
   "cell_type": "code",
   "execution_count": null,
   "metadata": {},
   "outputs": [],
   "source": [
    "dir(str)"
   ]
  },
  {
   "cell_type": "code",
   "execution_count": null,
   "metadata": {},
   "outputs": [],
   "source": [
    "help(str.upper)"
   ]
  },
  {
   "cell_type": "code",
   "execution_count": null,
   "metadata": {},
   "outputs": [],
   "source": [
    "help(str.split)"
   ]
  },
  {
   "cell_type": "code",
   "execution_count": 2,
   "metadata": {},
   "outputs": [
    {
     "name": "stdout",
     "output_type": "stream",
     "text": [
      "2\n",
      "m789mbnbn\n",
      "3 6\n",
      "56ghf\n",
      "2 3\n"
     ]
    }
   ],
   "source": [
    "def count(n):\n",
    "    s1=0\n",
    "    s2=0\n",
    "    for i in n:\n",
    "        if i.isdigit():\n",
    "            s1=s1+1\n",
    "        elif i.isalpha():\n",
    "            s2=s2+1\n",
    "    print(s1,s2)\n",
    "\n",
    "x=int(input())\n",
    "for i in range(x):\n",
    "    n=input()\n",
    "    count(n)\n",
    "    \n",
    "    \n",
    "        "
   ]
  },
  {
   "cell_type": "code",
   "execution_count": 3,
   "metadata": {},
   "outputs": [
    {
     "name": "stdout",
     "output_type": "stream",
     "text": [
      "1\n",
      "htf65DF\n",
      "2 2 3\n"
     ]
    }
   ],
   "source": [
    "def count(n):\n",
    "    s1=0\n",
    "    s2=0\n",
    "    s3=0\n",
    "    for i in n:\n",
    "        if i.isdigit():\n",
    "            s1=s1+1\n",
    "        elif i.isupper():\n",
    "            s2=s2+1\n",
    "        elif i.islower():\n",
    "            s3=s3+1\n",
    "    print(s1,s2,s3)\n",
    "\n",
    "x=int(input())\n",
    "for i in range(x):\n",
    "    n=input()\n",
    "    count(n)\n",
    "    \n",
    "    \n",
    "        "
   ]
  },
  {
   "cell_type": "code",
   "execution_count": 1,
   "metadata": {},
   "outputs": [
    {
     "name": "stdout",
     "output_type": "stream",
     "text": [
      "1\n",
      "1 44 24 36\n",
      "22 52\n"
     ]
    }
   ],
   "source": [
    "\n",
    "def minutsdifference(s):\n",
    "    s=s.split()\n",
    "    sh=int(s[0])\n",
    "    sm=int(s[1])\n",
    "    eh=int(s[2])\n",
    "    em=int(s[3])\n",
    "    startminuts=(sh*60)+sm\n",
    "    endminuts=(eh*60)+em\n",
    "    return endminuts-startminuts\n",
    "def outputtimeformat(minuts):\n",
    "    hh=minuts//60\n",
    "    mm=minuts%60\n",
    "    print(hh,mm)\n",
    "    return\n",
    "n=int(input())\n",
    "for i in range(n):\n",
    "    s=input()\n",
    "    minuts=minutsdifference(s)\n",
    "    outputtimeformat(minuts)    \n",
    "    \n",
    "    "
   ]
  },
  {
   "cell_type": "code",
   "execution_count": null,
   "metadata": {},
   "outputs": [],
   "source": []
  }
 ],
 "metadata": {
  "kernelspec": {
   "display_name": "Python 3",
   "language": "python",
   "name": "python3"
  },
  "language_info": {
   "codemirror_mode": {
    "name": "ipython",
    "version": 3
   },
   "file_extension": ".py",
   "mimetype": "text/x-python",
   "name": "python",
   "nbconvert_exporter": "python",
   "pygments_lexer": "ipython3",
   "version": "3.7.3"
  }
 },
 "nbformat": 4,
 "nbformat_minor": 2
}

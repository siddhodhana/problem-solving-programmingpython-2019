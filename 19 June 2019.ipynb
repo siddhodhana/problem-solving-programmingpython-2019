{
 "cells": [
  {
   "cell_type": "code",
   "execution_count": null,
   "metadata": {},
   "outputs": [],
   "source": [
    "def modify(key):\n",
    "    if key in d:\n",
    "        d[key]=int(input())\n",
    "    else:\n",
    "        print(\"key is not in dictionary\")\n",
    "        print(d)\n",
    "modify(\"name2\")"
   ]
  },
  {
   "cell_type": "markdown",
   "metadata": {},
   "source": [
    "5 3\n",
    "1 2 3 4 5\n",
    "4\n",
    "1 3\n",
    "1 4\n",
    "5 7\n",
    "5 9\n"
   ]
  },
  {
   "cell_type": "code",
   "execution_count": null,
   "metadata": {},
   "outputs": [],
   "source": [
    "\n",
    "l,n=map(int,input().split())\n",
    "type(l)"
   ]
  },
  {
   "cell_type": "code",
   "execution_count": null,
   "metadata": {},
   "outputs": [],
   "source": [
    "a=list(map(int,input().split()))\n",
    "type(a)"
   ]
  },
  {
   "cell_type": "code",
   "execution_count": null,
   "metadata": {},
   "outputs": [],
   "source": [
    "k=int(input())\n",
    "for i in range(k):\n",
    "    a,b=map(int,input().split())\n",
    "    print(a,b)\n",
    "    "
   ]
  },
  {
   "cell_type": "markdown",
   "metadata": {},
   "source": [
    "### Anagrams"
   ]
  },
  {
   "cell_type": "code",
   "execution_count": null,
   "metadata": {},
   "outputs": [],
   "source": [
    "for _ in range(int(input())):\n",
    "    s=input()\n",
    "    v=input()\n",
    "    s1=[0]*26;\n",
    "    v1=[0]*26;\n",
    "for ele in a:\n",
    "    s1[ord(ele)-97]+=1;\n",
    "for ele in b:\n",
    "    v1[ord(ele)-97]+=1;\n",
    "\n",
    "res=0;\n",
    "for i in range(26):\n",
    "    res=res+(abs(s1[i]-v1[i]));\n",
    "print(res)    "
   ]
  },
  {
   "cell_type": "markdown",
   "metadata": {},
   "source": [
    "ord\n",
    "\n"
   ]
  },
  {
   "cell_type": "markdown",
   "metadata": {},
   "source": [
    "### Find product\n"
   ]
  },
  {
   "cell_type": "code",
   "execution_count": 22,
   "metadata": {},
   "outputs": [
    {
     "name": "stdout",
     "output_type": "stream",
     "text": [
      "5\n",
      "1 2 3 4 5\n",
      "120\n"
     ]
    }
   ],
   "source": [
    "\n",
    "x=int(input())\n",
    "l1=input().split()\n",
    "l2=[]\n",
    "for i in l1:\n",
    "    l2.append(int(i))\n",
    "answer=1\n",
    "for i in l2:\n",
    "    answer=(answer*i)%(10**9+7)\n",
    "print(answer)\n",
    "\n",
    "    \n",
    "    \n",
    "    \n",
    "    "
   ]
  },
  {
   "cell_type": "code",
   "execution_count": 1,
   "metadata": {},
   "outputs": [
    {
     "name": "stdout",
     "output_type": "stream",
     "text": [
      "23 45 67 88\n"
     ]
    },
    {
     "data": {
      "text/plain": [
       "['23', '45', '67', '88']"
      ]
     },
     "execution_count": 1,
     "metadata": {},
     "output_type": "execute_result"
    }
   ],
   "source": [
    "l=input().split()\n",
    "l\n"
   ]
  },
  {
   "cell_type": "code",
   "execution_count": null,
   "metadata": {},
   "outputs": [],
   "source": []
  }
 ],
 "metadata": {
  "kernelspec": {
   "display_name": "Python 3",
   "language": "python",
   "name": "python3"
  },
  "language_info": {
   "codemirror_mode": {
    "name": "ipython",
    "version": 3
   },
   "file_extension": ".py",
   "mimetype": "text/x-python",
   "name": "python",
   "nbconvert_exporter": "python",
   "pygments_lexer": "ipython3",
   "version": "3.7.3"
  }
 },
 "nbformat": 4,
 "nbformat_minor": 2
}

{
 "cells": [
  {
   "cell_type": "code",
   "execution_count": 1,
   "metadata": {},
   "outputs": [
    {
     "name": "stdout",
     "output_type": "stream",
     "text": [
      "500 502 504 506 508 510 512 514 516 518 520 522 524 "
     ]
    }
   ],
   "source": [
    "# function to print alternate numbers\n",
    "def alternatevalues(start,end):\n",
    "    for value in range (start,end+1,2):\n",
    "        print(value, end= \" \")\n",
    "    return\n",
    "alternatevalues(500,525)"
   ]
  },
  {
   "cell_type": "code",
   "execution_count": 2,
   "metadata": {},
   "outputs": [
    {
     "name": "stdout",
     "output_type": "stream",
     "text": [
      "10 8 6 4 2 "
     ]
    }
   ],
   "source": [
    "#function to print reverse of given range in the\n",
    "def reverserange(start,end):\n",
    "    for value in range (end,start,-2):\n",
    "        print(value, end= \" \")\n",
    "    return\n",
    "reverserange(1,10)"
   ]
  },
  {
   "cell_type": "code",
   "execution_count": 3,
   "metadata": {},
   "outputs": [
    {
     "name": "stdout",
     "output_type": "stream",
     "text": [
      "129 127 125 123 "
     ]
    }
   ],
   "source": [
    "# function to print the odd numbers in reverse order in a \n",
    "def oddreverse(start,end):\n",
    "    for value in range (end,start-1,-1):\n",
    "        if value%2!=0:\n",
    "            print(value, end=\" \")\n",
    "    return\n",
    "\n",
    "oddreverse(123,130)"
   ]
  },
  {
   "cell_type": "code",
   "execution_count": 5,
   "metadata": {},
   "outputs": [
    {
     "data": {
      "text/plain": [
       "6"
      ]
     },
     "execution_count": 5,
     "metadata": {},
     "output_type": "execute_result"
    }
   ],
   "source": [
    "# function to calculate the sum of numbers in range\n",
    "def sumrange(start,end):\n",
    "    sum=0\n",
    "    for i in range(start, end+1):\n",
    "        sum=sum + i\n",
    "    return sum  \n",
    "sumrange(1,3)"
   ]
  },
  {
   "cell_type": "code",
   "execution_count": 9,
   "metadata": {},
   "outputs": [
    {
     "data": {
      "text/plain": [
       "2"
      ]
     },
     "execution_count": 9,
     "metadata": {},
     "output_type": "execute_result"
    }
   ],
   "source": [
    "#function to calculate the average of given range\n",
    "#(1,5)-->3\n",
    "def avgofgivenrange(start,end):\n",
    "    sum=0\n",
    "    count=0\n",
    "    for i in range (start,end+1):\n",
    "        sum=sum+i   #sum calculation\n",
    "        count=count+1  #counting number of values\n",
    "        avg=sum//count\n",
    "    return avg  \n",
    "\n",
    "avgofgivenrange(1,3)\n",
    "        "
   ]
  },
  {
   "cell_type": "code",
   "execution_count": 26,
   "metadata": {},
   "outputs": [
    {
     "name": "stdout",
     "output_type": "stream",
     "text": [
      "1920 1924 1928 1932 1936 1940 1944 1948 1952 1956 1960 1964 1968 1972 1976 1980 1984 1988 1992 1996 2000 2004 2008 2012 2016 "
     ]
    }
   ],
   "source": [
    "#function  togenerate all leap years in a given time period\n",
    "#2000-2020-->2000 2004 2008 2012 2016 2020\n",
    "#isLeapYear(year)  #To check if a given year is leap year\n",
    "\n",
    "def isLeapYear(year):\n",
    "    if year % 400 == 0 or (year % 100 != 0 and year % 4 ==0):\n",
    "        return True\n",
    "    return False\n",
    "isLeapYear(2001)\n",
    "\n",
    "#generateleapYears(startyear,endyear) #uses the is leapyear()\n",
    "def generateLeapYear(startyear,endyear):\n",
    "    for year in range(startyear, endyear+1):\n",
    "        if isLeapYear(year):\n",
    "            print(year,end=\" \")\n",
    "    return\n",
    "generateLeapYear(1919,2019)"
   ]
  },
  {
   "cell_type": "code",
   "execution_count": 28,
   "metadata": {},
   "outputs": [
    {
     "data": {
      "text/plain": [
       "1827"
      ]
     },
     "execution_count": 28,
     "metadata": {},
     "output_type": "execute_result"
    }
   ],
   "source": [
    "#calculate number of days in a given time period using leapyear logic\n",
    "#for every year in the time period ,if the year is --.add 365 to sum.if leap year\n",
    "def daysintimeperiod(startyear,endyear):\n",
    "    sum=0\n",
    "    for i in range(startyear, endyear+1):\n",
    "        if isLeapYear(i):\n",
    "            sum=sum+366\n",
    "        else:\n",
    "            sum=sum+365\n",
    "    return sum\n",
    "daysintimeperiod(2000,2004)\n",
    "\n",
    "        \n",
    "        \n",
    "        "
   ]
  },
  {
   "cell_type": "code",
   "execution_count": null,
   "metadata": {},
   "outputs": [],
   "source": []
  },
  {
   "cell_type": "code",
   "execution_count": 50,
   "metadata": {},
   "outputs": [
    {
     "data": {
      "text/plain": [
       "29904"
      ]
     },
     "execution_count": 50,
     "metadata": {},
     "output_type": "execute_result"
    }
   ],
   "source": [
    "#function to calculate number of hours for a given period in \n",
    "#number of hours(11,1975,3,1999)\n",
    "\n",
    "def numberofdaysmonth(month,year):\n",
    "    if month ==2:\n",
    "        if isLeapYear(year):\n",
    "            return 29\n",
    "        return 28\n",
    "    elif(month<= 7 and month %2!=0 or (month>=8 and month %2==0)):\n",
    "        return 31\n",
    "    else:\n",
    "        return 30\n",
    "def daysinstartyear(startmonth,startyear):\n",
    "    days=0 \n",
    "    for month in range(startmonth, 13):\n",
    "        days+=numberofdaysmonth(month,startyear)\n",
    "    return days    \n",
    "def daysinendyear(endmonth,endyear):\n",
    "    days=0\n",
    "    for month in range(1, endmonth+1):\n",
    "        days+= numberofdaysmonth(month, endyear)\n",
    "    return days\n",
    "def numberofhours(startmonth,startyear,endmonth,endyear):\n",
    "    days=0\n",
    "    days+= daysinstartyear(startmonth,startyear)\n",
    "    days+=daysinendyear(endmonth,endyear)\n",
    "    if endyear-startyear==2:\n",
    "        days+=daysintimeperiod(startyear+1,endyear+1)\n",
    "    elif endyear-startyear>2:\n",
    "        days+=daysintimeperiod(startyear+1,endyear-1)\n",
    "    return 24*days    \n",
    "    \n",
    "numberofhours(2, 2016, 6, 2019)\n",
    "    "
   ]
  },
  {
   "cell_type": "code",
   "execution_count": 33,
   "metadata": {},
   "outputs": [],
   "source": [
    "#advanced problem set\n",
    "#function to generate N  odd armstrong numbers\n",
    "def armstrongnum(n):\n",
    "    num=len(str(123))\n",
    "    for i in range(str(n)):\n",
    "        \n"
   ]
  },
  {
   "cell_type": "code",
   "execution_count": null,
   "metadata": {},
   "outputs": [],
   "source": [
    "#function to calculate average of all factorial in a given range"
   ]
  },
  {
   "cell_type": "code",
   "execution_count": null,
   "metadata": {},
   "outputs": [],
   "source": [
    "#function to generate multiplication table for number in a given range"
   ]
  }
 ],
 "metadata": {
  "kernelspec": {
   "display_name": "Python 3",
   "language": "python",
   "name": "python3"
  },
  "language_info": {
   "codemirror_mode": {
    "name": "ipython",
    "version": 3
   },
   "file_extension": ".py",
   "mimetype": "text/x-python",
   "name": "python",
   "nbconvert_exporter": "python",
   "pygments_lexer": "ipython3",
   "version": "3.7.3"
  }
 },
 "nbformat": 4,
 "nbformat_minor": 2
}

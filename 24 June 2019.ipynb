{
 "cells": [
  {
   "cell_type": "code",
   "execution_count": null,
   "metadata": {},
   "outputs": [],
   "source": [
    "n=int(input())\n",
    "a=[]\n",
    "b=[]\n",
    "c=0\n",
    "for i in range (n):\n",
    "    c=a[0]+b[0]\n",
    "    \n",
    "    "
   ]
  },
  {
   "cell_type": "code",
   "execution_count": null,
   "metadata": {},
   "outputs": [],
   "source": [
    "# contacts Application\n",
    "          #add,search,list,modify,delete contacts\n",
    "# find and replace application\n",
    "          #count the total number of occurances of word\n",
    "          #If word is existing \n",
    "          #Replace all occurances of a word with another word\n",
    "# Marks analysis application\n",
    "     #generate marks file for n students\n",
    "     #Input:marks text file each line contains marks of one student  1 line =95,2nd line=90\n",
    "     #generates a report with the following information\n",
    "           #class average\n",
    "           # % of students passed\n",
    "            # % of students failed\n",
    "            # % of students with distinction\n",
    "            #highestmarks frequency\n",
    "            #lowestmarks frequency"
   ]
  },
  {
   "cell_type": "markdown",
   "metadata": {},
   "source": [
    "### Generate marks\n"
   ]
  },
  {
   "cell_type": "code",
   "execution_count": 11,
   "metadata": {},
   "outputs": [],
   "source": [
    "# function to generate marks data for n \n",
    "from random import randint\n",
    "def generatemarks(n,lb,ub):\n",
    "    with open('Datafiles/marks.txt','w') as f:\n",
    "        for i in range(0,n):\n",
    "            r=randint(lb,ub)\n",
    "            f.write(str(r)+'\\n')\n",
    "    return\n",
    "generatemarks(100,20,100)\n",
    "    "
   ]
  },
  {
   "cell_type": "markdown",
   "metadata": {},
   "source": [
    "### Average marks"
   ]
  },
  {
   "cell_type": "code",
   "execution_count": 3,
   "metadata": {},
   "outputs": [
    {
     "name": "stdout",
     "output_type": "stream",
     "text": [
      "66.0\n"
     ]
    }
   ],
   "source": [
    "def avgmarks(filepath):\n",
    "    with open('Datafiles/marks.txt','r') as f:\n",
    "        s=f.read()\n",
    "        n=list(map(int,s.split()))\n",
    "        #print(n)\n",
    "        print(sum(n)/len(n))\n",
    "        #print(avg)\n",
    "filepath='Datafiles/marks.txt'\n",
    "avgmarks(filepath)          "
   ]
  },
  {
   "cell_type": "markdown",
   "metadata": {},
   "source": [
    "### student passed"
   ]
  },
  {
   "cell_type": "code",
   "execution_count": 4,
   "metadata": {},
   "outputs": [
    {
     "name": "stdout",
     "output_type": "stream",
     "text": [
      "87.0\n"
     ]
    }
   ],
   "source": [
    "def studentspassed(filepath):\n",
    "    with open('Datafiles/marks.txt','r') as f:\n",
    "        s=f.read()\n",
    "        n=list(map(int,s.split()))\n",
    "        count=0\n",
    "        for i in n:\n",
    "            if i>35:\n",
    "                count=count+1\n",
    "        print((count/len(n)*100))\n",
    "        \n",
    "                \n",
    "filepath='Datafiles/marks.txt'\n",
    "studentspassed(filepath)                 "
   ]
  },
  {
   "cell_type": "markdown",
   "metadata": {},
   "source": [
    "### Student failed"
   ]
  },
  {
   "cell_type": "code",
   "execution_count": 5,
   "metadata": {},
   "outputs": [
    {
     "name": "stdout",
     "output_type": "stream",
     "text": [
      "13.0\n"
     ]
    }
   ],
   "source": [
    "def studentsfailed(filepath):\n",
    "    with open('Datafiles/marks.txt','r') as f:\n",
    "        s=f.read()\n",
    "        n=list(map(int,s.split()))\n",
    "        count=0\n",
    "        for i in n:\n",
    "            if i<35:\n",
    "                count=count+1\n",
    "        print((count/len(n)*100))\n",
    "        \n",
    "                \n",
    "filepath='Datafiles/marks.txt'\n",
    "studentsfailed(filepath)                 "
   ]
  },
  {
   "cell_type": "markdown",
   "metadata": {},
   "source": [
    "### Distinction"
   ]
  },
  {
   "cell_type": "code",
   "execution_count": 6,
   "metadata": {},
   "outputs": [
    {
     "name": "stdout",
     "output_type": "stream",
     "text": [
      "45.0\n"
     ]
    }
   ],
   "source": [
    "def distinct(filepath):\n",
    "    with open('Datafiles/marks.txt','r') as f:\n",
    "        s=f.read()\n",
    "        n=list(map(int,s.split()))\n",
    "        count=0\n",
    "        for i in n:\n",
    "            if i>=70:\n",
    "                count=count+1\n",
    "        print((count/len(n)*100))\n",
    "        \n",
    "                \n",
    "filepath='Datafiles/marks.txt'\n",
    "distinct(filepath)                 "
   ]
  },
  {
   "cell_type": "markdown",
   "metadata": {},
   "source": [
    "### Highest marks frequency"
   ]
  },
  {
   "cell_type": "code",
   "execution_count": 18,
   "metadata": {},
   "outputs": [
    {
     "name": "stdout",
     "output_type": "stream",
     "text": [
      "{75: 1, 94: 3, 70: 3, 76: 2, 74: 3, 89: 2, 85: 2, 80: 2, 84: 2, 87: 2, 98: 2, 90: 3, 82: 3, 100: 2, 72: 2, 97: 1, 86: 1, 83: 1, 77: 2, 92: 1}\n"
     ]
    }
   ],
   "source": [
    "def highestmarksfreq(filepath):\n",
    "    d={}\n",
    "    with open('Datafiles/marks.txt','r') as f:\n",
    "        s=f.read()\n",
    "        n=list(map(int,s.split()))\n",
    "        #print(n)\n",
    "        #count=0\n",
    "        for i in n:\n",
    "            if i>=70:\n",
    "                d[i]=n.count(i)\n",
    "        print(d)\n",
    "                   \n",
    "        \n",
    "filepath='Datafiles/marks.txt'\n",
    "highestmarksfreq(filepath) "
   ]
  },
  {
   "cell_type": "markdown",
   "metadata": {},
   "source": [
    "### Lowestmarks frequency"
   ]
  },
  {
   "cell_type": "code",
   "execution_count": 19,
   "metadata": {},
   "outputs": [
    {
     "name": "stdout",
     "output_type": "stream",
     "text": [
      "{20: 2, 33: 2, 28: 3, 27: 3, 34: 1, 30: 1, 25: 1, 31: 1, 29: 1, 24: 3, 32: 1}\n"
     ]
    }
   ],
   "source": [
    "def lowestmarksfreq(filepath):\n",
    "    d={}\n",
    "    with open('Datafiles/marks.txt','r') as f:\n",
    "        s=f.read()\n",
    "        n=list(map(int,s.split()))\n",
    "        #print(n)\n",
    "        #count=0\n",
    "        for i in n:\n",
    "            if i<35:\n",
    "                d[i]=n.count(i)\n",
    "        print(d)\n",
    "                   \n",
    "        \n",
    "filepath='Datafiles/marks.txt'\n",
    "lowestmarksfreq(filepath) "
   ]
  },
  {
   "cell_type": "markdown",
   "metadata": {},
   "source": [
    "### Replace application"
   ]
  },
  {
   "cell_type": "code",
   "execution_count": 28,
   "metadata": {},
   "outputs": [
    {
     "ename": "NameError",
     "evalue": "name 'tempFile' is not defined",
     "output_type": "error",
     "traceback": [
      "\u001b[1;31m---------------------------------------------------------------------------\u001b[0m",
      "\u001b[1;31mNameError\u001b[0m                                 Traceback (most recent call last)",
      "\u001b[1;32m<ipython-input-28-36f250da4b8e>\u001b[0m in \u001b[0;36m<module>\u001b[1;34m\u001b[0m\n\u001b[0;32m      8\u001b[0m         \u001b[1;32melse\u001b[0m\u001b[1;33m:\u001b[0m\u001b[1;33m\u001b[0m\u001b[1;33m\u001b[0m\u001b[0m\n\u001b[0;32m      9\u001b[0m             \u001b[0mprint\u001b[0m\u001b[1;33m(\u001b[0m\u001b[1;34m'Match Not Found!!'\u001b[0m\u001b[1;33m)\u001b[0m\u001b[1;33m\u001b[0m\u001b[1;33m\u001b[0m\u001b[0m\n\u001b[1;32m---> 10\u001b[1;33m \u001b[0mtempFile\u001b[0m\u001b[1;33m.\u001b[0m\u001b[0mwrite\u001b[0m\u001b[1;33m(\u001b[0m \u001b[0mline\u001b[0m\u001b[1;33m.\u001b[0m\u001b[0mreplace\u001b[0m\u001b[1;33m(\u001b[0m \u001b[0mtextToSearch\u001b[0m\u001b[1;33m,\u001b[0m \u001b[0mtextToReplace\u001b[0m \u001b[1;33m)\u001b[0m \u001b[1;33m)\u001b[0m\u001b[1;33m\u001b[0m\u001b[1;33m\u001b[0m\u001b[0m\n\u001b[0m\u001b[0;32m     11\u001b[0m \u001b[0mtempFile\u001b[0m\u001b[1;33m.\u001b[0m\u001b[0mclose\u001b[0m\u001b[1;33m(\u001b[0m\u001b[1;33m)\u001b[0m\u001b[1;33m\u001b[0m\u001b[1;33m\u001b[0m\u001b[0m\n",
      "\u001b[1;31mNameError\u001b[0m: name 'tempFile' is not defined"
     ]
    }
   ],
   "source": [
    "def temfile(filepath):\n",
    "    with open('Datafiles/marks.txt','r') as f:\n",
    "        s=f.read()\n",
    "        d={}\n",
    "    for line in fileinput.input( fileToSearch ):\n",
    "        if textToSearch in line :\n",
    "            print('Match Found')\n",
    "        else:\n",
    "            print('Match Not Found!!')\n",
    "                tempFile.write( line.replace( textToSearch, textToReplace ) )\n",
    "tempFile.close()   "
   ]
  },
  {
   "cell_type": "code",
   "execution_count": null,
   "metadata": {},
   "outputs": [],
   "source": []
  },
  {
   "cell_type": "code",
   "execution_count": null,
   "metadata": {},
   "outputs": [],
   "source": []
  },
  {
   "cell_type": "code",
   "execution_count": null,
   "metadata": {},
   "outputs": [],
   "source": [
    "def frequency(n):\n",
    "    print(n)\n",
    "    l=[]\n",
    "    for i in n:\n",
    "        l.append(i)\n",
    "    print(l)\n",
    "    for j in range(0,10):\n",
    "        print(l.count(str(j)),end=\" \")\n",
    "        \n",
    "        \n",
    "n=input()        \n",
    "frequency(n)       "
   ]
  },
  {
   "cell_type": "code",
   "execution_count": null,
   "metadata": {},
   "outputs": [],
   "source": [
    "# aeiou count\n",
    "def ovel(n):\n",
    "    for ovel in(\"aeiou\"):\n",
    "        print(n.count(str(ovel)),end=\" \")\n",
    "        \n",
    "n=input()        \n",
    "ovel(n)\n",
    "\n",
    "        \n"
   ]
  },
  {
   "cell_type": "code",
   "execution_count": null,
   "metadata": {},
   "outputs": [],
   "source": [
    "def allcount(n):\n",
    "    d={}\n",
    "    for i in n:\n",
    "        d[i]=n.count(i)\n",
    "        #print(i,\":\",n.count(str(i)),end=\" \")\n",
    "    print (d)\n",
    "        \n",
    "    \n",
    "\n",
    "n=input()\n",
    "allcount(n)"
   ]
  },
  {
   "cell_type": "code",
   "execution_count": null,
   "metadata": {},
   "outputs": [],
   "source": [
    "d={}\n"
   ]
  },
  {
   "cell_type": "code",
   "execution_count": null,
   "metadata": {},
   "outputs": [],
   "source": [
    "d[5]=90\n"
   ]
  },
  {
   "cell_type": "code",
   "execution_count": null,
   "metadata": {},
   "outputs": [],
   "source": [
    "d"
   ]
  },
  {
   "cell_type": "code",
   "execution_count": 22,
   "metadata": {},
   "outputs": [],
   "source": [
    "d={\"name\":\"siddu\",\"sty\":\"btech\",\"age\":\"25\"}"
   ]
  },
  {
   "cell_type": "code",
   "execution_count": 26,
   "metadata": {},
   "outputs": [],
   "source": [
    "d[\"name\"]=\"samhi\""
   ]
  },
  {
   "cell_type": "code",
   "execution_count": 27,
   "metadata": {},
   "outputs": [
    {
     "data": {
      "text/plain": [
       "{'name': 'samhi', 'sty': 'btech', 'age': '25'}"
      ]
     },
     "execution_count": 27,
     "metadata": {},
     "output_type": "execute_result"
    }
   ],
   "source": [
    "d"
   ]
  },
  {
   "cell_type": "code",
   "execution_count": null,
   "metadata": {},
   "outputs": [],
   "source": []
  }
 ],
 "metadata": {
  "kernelspec": {
   "display_name": "Python 3",
   "language": "python",
   "name": "python3"
  },
  "language_info": {
   "codemirror_mode": {
    "name": "ipython",
    "version": 3
   },
   "file_extension": ".py",
   "mimetype": "text/x-python",
   "name": "python",
   "nbconvert_exporter": "python",
   "pygments_lexer": "ipython3",
   "version": "3.7.3"
  }
 },
 "nbformat": 4,
 "nbformat_minor": 2
}

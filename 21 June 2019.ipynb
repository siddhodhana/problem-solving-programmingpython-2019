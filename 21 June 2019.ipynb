{
 "cells": [
  {
   "cell_type": "code",
   "execution_count": 6,
   "metadata": {},
   "outputs": [
    {
     "name": "stdout",
     "output_type": "stream",
     "text": [
      "12X123-56\n",
      "3 X 3 5 11\n",
      "invalid\n"
     ]
    }
   ],
   "source": [
    "def innocent(n):\n",
    "    f=\"A\",\"E\",\"I\",\"O\",\"U\",\"Y\"\n",
    "    a=int(n[0])+int(n[1])\n",
    "    \n",
    "    b=n[2]\n",
    "    c=int(n[3])+int(n[4])\n",
    "    d=int(n[4])+int(n[5])\n",
    "    e=int(n[7])+int(n[8])\n",
    "    \n",
    "    if a%2==0 and c%2==0 and e%2==0 and d%2==0 and (n[2] not in f):\n",
    "        print(\"valid\")\n",
    "    else:\n",
    "        print(\"invalid\")\n",
    "\n",
    "n=input()\n",
    "innocent(n)       "
   ]
  },
  {
   "cell_type": "code",
   "execution_count": 34,
   "metadata": {},
   "outputs": [
    {
     "name": "stdout",
     "output_type": "stream",
     "text": [
      "name1 added to contacts\n",
      "True\n",
      "None\n"
     ]
    }
   ],
   "source": [
    "#Function to add contacts to cintacts text file\n",
    "import re\n",
    "from Packages import Validators\n",
    "def addcontact(name,phone,email):\n",
    "    #store data as name,phone,email in the contact file\n",
    "    \n",
    "    filename='Datafiles/contacts.txt'\n",
    "    with open(filename, 'a') as f:\n",
    "        line=name+', '+ str(phone)+', '+email+'\\n'\n",
    "        f.write(line)\n",
    "    print(name,'added to contacts')\n",
    "    return\n",
    "addcontact(\"name1\",9866956360,\"name1_23@gmail.com\")    \n",
    "#Function to check if contact already exists\n",
    "def checkcontactexists(name):\n",
    "    filename='Datafiles/contacts.txt'\n",
    "    with open(filename, 'r') as f:\n",
    "        filedata=f.read()\n",
    "        \n",
    "    return re.search(name,filedata)\n",
    "\n",
    "if checkcontactexists(\"name1,\"):\n",
    "    print(True)\n",
    "else:\n",
    "    print(False)\n",
    "print(checkcontactexists(\"name n\"))"
   ]
  },
  {
   "cell_type": "code",
   "execution_count": null,
   "metadata": {},
   "outputs": [],
   "source": [
    "#Function to add contacts to cintacts text file\n",
    "import re\n",
    "from packages.validators import phnvalidation as phv\n",
    "from packages.validators import mailvalidation as ev\n",
    "def addcontact(name,phone,email):\n",
    "    #store data as name,phone,email in the contact file\n",
    "    \n",
    "    filename='Datafiles/contacts.txt'\n",
    "    with open(filename, 'a') as f:\n",
    "        line=name+', '+ str(phone)+', '+email+'\\n'\n",
    "        f.write(line)\n",
    "    print(name,'added to contacts')\n",
    "    return\n",
    "addcontact(\"name1\",9866956360,\"name1_23@gmail.com\")    \n",
    "#Function to check if contact already exists\n",
    "def checkcontactexists(name):\n",
    "    filename='Datafiles/contacts.txt'\n",
    "    with open(filename, 'r') as f:\n",
    "        filedata=f.read()\n",
    "        pattern=name+','\n",
    "    return re.search(name,filedata)\n",
    "\n",
    "if checkcontactexists(\"name1,\"):\n",
    "    print(True)\n",
    "else:\n",
    "    print(False)\n"
   ]
  },
  {
   "cell_type": "code",
   "execution_count": null,
   "metadata": {},
   "outputs": [],
   "source": [
    "import re\n",
    "from Packages import Validators\n",
    "def addcontact(name,phone,email):\n",
    "    #store data as name,phone,email in the contact file\n",
    "    \n",
    "    filename='Datafiles/contacts.txt'\n",
    "    if not checkcontactexists(name):\n",
    "        if phonenumbervalidator(phone):\n",
    "            with open(filename, 'a') as f:\n",
    "                line=name+', '+ str(phone)+', '+email+'\\n'\n",
    "                f.write(line)\n",
    "            print(name,'added to contacts')\n",
    "        else:\n",
    "            print('invalid phone number or email')\n",
    "            return       "
   ]
  },
  {
   "cell_type": "code",
   "execution_count": 46,
   "metadata": {},
   "outputs": [
    {
     "data": {
      "text/plain": [
       "'name1, 9866956360, name1_23@gmail.com\\nname1, 9866956360, name1_23@gmail.com\\nname1, 9866956360, name1_23@gmail.com\\nname1, 9866956360, name1_23@gmail.com\\nname1, 9866956360, name1_23@gmail.com\\nname1, 9866956360, name1_23@gmail.com\\nname1, 9866956360, name1_23@gmail.com\\nname1, 9866956360, name1_23@gmail.com\\nname1, 9866956360, name1_23@gmail.com\\nname1, 9866956360, name1_23@gmail.com\\nname1, 9866956360, name1_23@gmail.com\\n'"
      ]
     },
     "execution_count": 46,
     "metadata": {},
     "output_type": "execute_result"
    }
   ],
   "source": [
    "filename='Datafiles/contacts.txt'\n",
    "def csvtolist(filename):\n",
    "    li=[]\n",
    "    with open(filename, 'r') as f:\n",
    "        for line in f:\n",
    "            li.append(line.split(','))\n",
    "    return li\n",
    "#list to file\n",
    "def listtofile(li):\n",
    "    s=\"\"\n",
    "    for i in li:\n",
    "        s+=','.join(i)\n",
    "    return s\n",
    "li=csvtolist(filename)\n",
    "listtofile(li)\n",
    "\n",
    "        \n",
    "            \n",
    "   "
   ]
  },
  {
   "cell_type": "code",
   "execution_count": 38,
   "metadata": {},
   "outputs": [],
   "source": [
    "#list to file\n",
    "def listtofile(li):\n",
    "    s=''\n",
    "    for i in li:\n",
    "        s.join(i)\n",
    "        "
   ]
  },
  {
   "cell_type": "code",
   "execution_count": 2,
   "metadata": {},
   "outputs": [
    {
     "name": "stdout",
     "output_type": "stream",
     "text": [
      "12X345-67\n",
      "invalid\n"
     ]
    }
   ],
   "source": [
    "def innocent(s):\n",
    "       f=\"A\",\"E\",\"I\",\"O\",\"U\",\"Y\"\n",
    "       a=int(s[0])+int(s[1])\n",
    "       b=s[2]\n",
    "       c=int(s[3])+int(s[4])\n",
    "       e=int(s[4])+int(s[5])\n",
    "       d=int(s[7])+int(s[8])\n",
    "       #print(a,b,c,e,d)\n",
    "       \n",
    "       if a%2==0 and c%2==0 and e%2==0 and d%2==0 and s[2] not in f:\n",
    "           print(\"valid\")\n",
    "       else:\n",
    "           print(\"invalid\")\n",
    "s=input()\n",
    "innocent(s)\n"
   ]
  },
  {
   "cell_type": "markdown",
   "metadata": {},
   "source": [
    "### file concept with dictionary\n",
    "\n"
   ]
  },
  {
   "cell_type": "code",
   "execution_count": 17,
   "metadata": {},
   "outputs": [],
   "source": [
    "filename='Datafiles/mycontacts.txt'\n",
    "f=open(filename,'a')#\n",
    "f.write(\"\\nraj,9854320765,raj@gmail.com\")\n",
    "f.close()"
   ]
  },
  {
   "cell_type": "code",
   "execution_count": 36,
   "metadata": {},
   "outputs": [],
   "source": [
    "filename='Datafiles/mycontacts.txt'\n",
    "f=open(filename,'a')#\n",
    "f.write(\"rani,9854320785,rani@gmail.com\")\n",
    "f.close()"
   ]
  },
  {
   "cell_type": "code",
   "execution_count": 37,
   "metadata": {},
   "outputs": [
    {
     "name": "stdout",
     "output_type": "stream",
     "text": [
      "\n",
      "raj,9854320765,raj@gmail.comrani,9854320785,rani@gmail.com"
     ]
    }
   ],
   "source": [
    "with open(filename,'r') as f:\n",
    "    for line in f.readlines():\n",
    "        print(line,end='')"
   ]
  },
  {
   "cell_type": "code",
   "execution_count": 25,
   "metadata": {},
   "outputs": [
    {
     "name": "stdout",
     "output_type": "stream",
     "text": [
      "import re\n",
      "def phonenumbervalidator(num):\n",
      "    pattern='[9876][0-9]{9}$|^[0][6-9][0-9]{9}$|^[+][9][1][6-9][0-9]{9}$'\n",
      "    if re.match(pattern,str(num)):\n",
      "                return True\n",
      "                #print(\"valid number\")\n",
      "    else:\n",
      "        return False\n",
      "        #print(\"Invalid number\")            \n",
      "    return\n",
      "def emailval(email):\n",
      "                pattern='^[0-9a-z][0-9a-z_.]{4,13}[0-9a-z]@[0-9a-z]{3,18}[.][a-z]{2,4}$'\n",
      "                if re.match(pattern,email):\n",
      "                    return True\n",
      "                else:\n",
      "                    return False\n",
      "emailval(\"siddu.dad999@gmail.com\")\n"
     ]
    }
   ],
   "source": [
    "def listcontacts(filename):\n",
    "    with open(filename,'r') as f:\n",
    "        for line in f.readlines():\n",
    "            print(line,end='')\n",
    "        \n",
    "filename='Packages/validators.py'\n",
    "listcontacts(filename)        \n",
    "    "
   ]
  },
  {
   "cell_type": "code",
   "execution_count": 26,
   "metadata": {},
   "outputs": [
    {
     "name": "stdout",
     "output_type": "stream",
     "text": [
      "import re\n",
      "\n",
      "def phonenumbervalidator(num):\n",
      "\n",
      "    pattern='[9876][0-9]{9}$|^[0][6-9][0-9]{9}$|^[+][9][1][6-9][0-9]{9}$'\n",
      "\n",
      "    if re.match(pattern,str(num)):\n",
      "\n",
      "                return True\n",
      "\n",
      "                #print(\"valid number\")\n",
      "\n",
      "    else:\n",
      "\n",
      "        return False\n",
      "\n",
      "        #print(\"Invalid number\")            \n",
      "\n",
      "    return\n",
      "\n",
      "def emailval(email):\n",
      "\n",
      "                pattern='^[0-9a-z][0-9a-z_.]{4,13}[0-9a-z]@[0-9a-z]{3,18}[.][a-z]{2,4}$'\n",
      "\n",
      "                if re.match(pattern,email):\n",
      "\n",
      "                    return True\n",
      "\n",
      "                else:\n",
      "\n",
      "                    return False\n",
      "\n",
      "emailval(\"siddu.dad999@gmail.com\")\n",
      "\n"
     ]
    }
   ],
   "source": [
    "with open(filename,'r') as f:\n",
    "    for line in f:\n",
    "        print(line)\n",
    "                \n",
    "                \n",
    "        "
   ]
  },
  {
   "cell_type": "code",
   "execution_count": 27,
   "metadata": {},
   "outputs": [
    {
     "name": "stdout",
     "output_type": "stream",
     "text": [
      "\n",
      "raj,9854320765,raj@gmail.com"
     ]
    }
   ],
   "source": [
    "filename='Datafiles/mycontacts.txt'\n",
    "with open(filename,'r') as f:\n",
    "    for line in f.readlines():\n",
    "        print(line,end='')"
   ]
  },
  {
   "cell_type": "code",
   "execution_count": 38,
   "metadata": {},
   "outputs": [
    {
     "data": {
      "text/plain": [
       "[['\\n'],\n",
       " ['raj', '9854320765', 'raj@gmail.comrani', '9854320785', 'rani@gmail.com']]"
      ]
     },
     "execution_count": 38,
     "metadata": {},
     "output_type": "execute_result"
    }
   ],
   "source": [
    "def listtocsv(filename):\n",
    "    with open(filename,'r') as f:\n",
    "        f1=[]\n",
    "        for line in f:\n",
    "            f1.append(line.split(sep=','))\n",
    "    return f1\n",
    "listtocsv(filename)"
   ]
  },
  {
   "cell_type": "code",
   "execution_count": 39,
   "metadata": {},
   "outputs": [
    {
     "name": "stdout",
     "output_type": "stream",
     "text": [
      "raj,9854320765,raj@gmail.comrani,9854320785,rani@gmail.com\n"
     ]
    }
   ],
   "source": [
    "def search(fname,name):\n",
    "    f1=listtocsv(fname)\n",
    "    flag=0\n",
    "    for line in f1:\n",
    "        if line[0]==name:\n",
    "            flag=1\n",
    "            print(','.join(line))\n",
    "    if flag==0:\n",
    "        print('contact not found')\n",
    "search(filename,'raj')"
   ]
  },
  {
   "cell_type": "code",
   "execution_count": 33,
   "metadata": {},
   "outputs": [
    {
     "name": "stdout",
     "output_type": "stream",
     "text": [
      "contact not found\n"
     ]
    }
   ],
   "source": [
    "def search(fname,name):\n",
    "    f1=listtocsv(fname)\n",
    "    flag=0\n",
    "    for line in f1:\n",
    "        if line[0]==name:\n",
    "            flag=1\n",
    "            print(','.join(line))\n",
    "    if flag==0:\n",
    "        print('contact not found')\n",
    "search(filename,'rani')"
   ]
  },
  {
   "cell_type": "code",
   "execution_count": 40,
   "metadata": {},
   "outputs": [
    {
     "name": "stdout",
     "output_type": "stream",
     "text": [
      "raj,9854320765,raj@gmail.comrani,9854320785,rani@gmail.com"
     ]
    }
   ],
   "source": [
    "def search(fname,name):\n",
    "    f1=listtocsv(fname)\n",
    "    flag=0\n",
    "    for line in f1:\n",
    "        if line[0]==name:\n",
    "            flag=1\n",
    "            print(','.join(line),end='')\n",
    "    if flag==0:\n",
    "        print('contact not found')\n",
    "search(filename,'raj')"
   ]
  },
  {
   "cell_type": "code",
   "execution_count": 50,
   "metadata": {},
   "outputs": [
    {
     "data": {
      "text/plain": [
       "'Datafiles/mycontacts.txt'"
      ]
     },
     "execution_count": 50,
     "metadata": {},
     "output_type": "execute_result"
    }
   ],
   "source": [
    "filename"
   ]
  },
  {
   "cell_type": "code",
   "execution_count": 53,
   "metadata": {},
   "outputs": [
    {
     "data": {
      "text/plain": [
       "1"
      ]
     },
     "execution_count": 53,
     "metadata": {},
     "output_type": "execute_result"
    }
   ],
   "source": [
    "#search for given name\n",
    "#if it is present remove the line in fl\n",
    "#else print contact not found\n",
    "#PART2\n",
    "#call ListTOCSV\n",
    "#write the ListTOCSV O/P to file\n",
    "def search(filename,name):\n",
    "    f1=listtocsv(filename)\n",
    "    flag=0\n",
    "    for i in range(len(f1)):\n",
    "        if name==f1[i][0]:\n",
    "            flag=1\n",
    "            return i\n",
    "    if flag==0:\n",
    "        return -1\n",
    "search(filename,'raj')           "
   ]
  },
  {
   "cell_type": "code",
   "execution_count": 44,
   "metadata": {},
   "outputs": [],
   "source": [
    "l=[1,22,34,56]\n",
    "l.remove(34)"
   ]
  },
  {
   "cell_type": "code",
   "execution_count": 58,
   "metadata": {},
   "outputs": [
    {
     "data": {
      "text/plain": [
       "[['name1', ' 9866956360', ' name1_23@gmail.com\\n'],\n",
       " ['name1', ' 9866956360', ' name1_23@gmail.com\\n'],\n",
       " ['name1', ' 9866956360', ' name1_23@gmail.com\\n'],\n",
       " ['name1', ' 9866956360', ' name1_23@gmail.com\\n'],\n",
       " ['name1', ' 9866956360', ' name1_23@gmail.com\\n'],\n",
       " ['name1', ' 9866956360', ' name1_23@gmail.com\\n'],\n",
       " ['name1', ' 9866956360', ' name1_23@gmail.com\\n'],\n",
       " ['name1', ' 9866956360', ' name1_23@gmail.com\\n'],\n",
       " ['name1', ' 9866956360', ' name1_23@gmail.com\\n'],\n",
       " ['name1', ' 9866956360', ' name1_23@gmail.com\\n'],\n",
       " ['name1', ' 9866956360', ' name1_23@gmail.com\\n']]"
      ]
     },
     "execution_count": 58,
     "metadata": {},
     "output_type": "execute_result"
    }
   ],
   "source": [
    "filename='Datafiles/contacts.txt'\n",
    "def csvtolist(filename):\n",
    "    li=[]\n",
    "    with open(filename, 'r') as f:\n",
    "        for line in f:\n",
    "            li.append(line.split(','))\n",
    "    return li\n",
    "csvtolist(filename)"
   ]
  },
  {
   "cell_type": "code",
   "execution_count": 63,
   "metadata": {},
   "outputs": [
    {
     "data": {
      "text/plain": [
       "'name1, 9866956360, name1_23@gmail.com\\nname1, 9866956360, name1_23@gmail.com\\nname1, 9866956360, name1_23@gmail.com\\nname1, 9866956360, name1_23@gmail.com\\nname1, 9866956360, name1_23@gmail.com\\nname1, 9866956360, name1_23@gmail.com\\nname1, 9866956360, name1_23@gmail.com\\nname1, 9866956360, name1_23@gmail.com\\nname1, 9866956360, name1_23@gmail.com\\nname1, 9866956360, name1_23@gmail.com\\nname1, 9866956360, name1_23@gmail.com\\n'"
      ]
     },
     "execution_count": 63,
     "metadata": {},
     "output_type": "execute_result"
    }
   ],
   "source": [
    "def listtofile(li):\n",
    "    s=\"\"\n",
    "    for i in li:\n",
    "        s+=','.join(i)\n",
    "    return s\n",
    "li=csvtolist(filename)\n",
    "listtofile(li)\n"
   ]
  },
  {
   "cell_type": "code",
   "execution_count": 70,
   "metadata": {},
   "outputs": [],
   "source": [
    "def contactdelete(filename,name):\n",
    "    i=search(filename,name)\n",
    "    if i!=-1:\n",
    "        f1=csvtolist(filename)\n",
    "        f1.pop(i)\n",
    "        s=listtofile(f1)\n",
    "        with open(filename,'w') as f:\n",
    "            f.write(s)\n",
    "    else:\n",
    "        print(\"contact is not found to remove\")\n",
    "        \n",
    "contactdelete(filename,'name1')            \n",
    "            "
   ]
  },
  {
   "cell_type": "code",
   "execution_count": 68,
   "metadata": {},
   "outputs": [
    {
     "data": {
      "text/plain": [
       "'Datafiles/contacts.txt'"
      ]
     },
     "execution_count": 68,
     "metadata": {},
     "output_type": "execute_result"
    }
   ],
   "source": [
    "filename\n"
   ]
  },
  {
   "cell_type": "code",
   "execution_count": null,
   "metadata": {},
   "outputs": [],
   "source": [
    "#Modify (updata) contact details in afile\n",
    "#adding line numbers in file\n"
   ]
  }
 ],
 "metadata": {
  "kernelspec": {
   "display_name": "Python 3",
   "language": "python",
   "name": "python3"
  },
  "language_info": {
   "codemirror_mode": {
    "name": "ipython",
    "version": 3
   },
   "file_extension": ".py",
   "mimetype": "text/x-python",
   "name": "python",
   "nbconvert_exporter": "python",
   "pygments_lexer": "ipython3",
   "version": "3.7.3"
  }
 },
 "nbformat": 4,
 "nbformat_minor": 2
}

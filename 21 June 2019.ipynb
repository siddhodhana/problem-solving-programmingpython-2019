{
 "cells": [
  {
   "cell_type": "code",
   "execution_count": 6,
   "metadata": {},
   "outputs": [
    {
     "name": "stdout",
     "output_type": "stream",
     "text": [
      "12X123-56\n",
      "3 X 3 5 11\n",
      "invalid\n"
     ]
    }
   ],
   "source": [
    "def innocent(n):\n",
    "    f=\"A\",\"E\",\"I\",\"O\",\"U\",\"Y\"\n",
    "    a=int(n[0])+int(n[1])\n",
    "    \n",
    "    b=n[2]\n",
    "    c=int(n[3])+int(n[4])\n",
    "    d=int(n[4])+int(n[5])\n",
    "    e=int(n[7])+int(n[8])\n",
    "    \n",
    "    if a%2==0 and c%2==0 and e%2==0 and d%2==0 and (n[2] not in f):\n",
    "        print(\"valid\")\n",
    "    else:\n",
    "        print(\"invalid\")\n",
    "\n",
    "n=input()\n",
    "innocent(n)       "
   ]
  },
  {
   "cell_type": "markdown",
   "metadata": {},
   "source": [
    "### FUnction to add contacts with mail validation and contact validation"
   ]
  },
  {
   "cell_type": "code",
   "execution_count": 6,
   "metadata": {},
   "outputs": [
    {
     "name": "stdout",
     "output_type": "stream",
     "text": [
      "name1 added to contacts\n",
      "True\n",
      "None\n"
     ]
    }
   ],
   "source": [
    "#Function to add contacts to cintacts text file\n",
    "import re\n",
    "from Packages import Validators\n",
    "def addcontact(name,phone,email):\n",
    "    #store data as name,phone,email in the contact file\n",
    "    \n",
    "    filename='Datafiles/contacts.txt'\n",
    "    with open(filename, 'a') as f:\n",
    "        line=name+', '+ str(phone)+', '+email+'\\n'\n",
    "        f.write(line)\n",
    "    print(name,'added to contacts')\n",
    "    return\n",
    "addcontact(\"name1\",9866956360,\"name1_23@gmail.com\")    \n",
    "#Function to check if contact already exists\n",
    "def checkcontactexists(name):\n",
    "    filename='Datafiles/contacts.txt'\n",
    "    with open(filename, 'r') as f:\n",
    "        filedata=f.read()\n",
    "        \n",
    "    return re.search(name,filedata)\n",
    "\n",
    "if checkcontactexists(\"name1,\"):\n",
    "    print(True)\n",
    "else:\n",
    "    print(False)\n",
    "print(checkcontactexists(\"name n\"))"
   ]
  },
  {
   "cell_type": "code",
   "execution_count": 8,
   "metadata": {},
   "outputs": [
    {
     "name": "stdout",
     "output_type": "stream",
     "text": [
      "name1 added to contacts\n",
      "True\n"
     ]
    }
   ],
   "source": [
    "#Function to add contacts to contacts text file\n",
    "import re\n",
    "from Packages.Validators import phonenumbervalidator as phv\n",
    "from Packages.Validators import emailval as ev\n",
    "def addcontact(name,phone,email):\n",
    "    #store data as name,phone,email in the contact file\n",
    "    \n",
    "    filename='Datafiles/contacts.txt'\n",
    "    with open(filename, 'a') as f:\n",
    "        line=name+', '+ str(phone)+', '+email+'\\n'\n",
    "        f.write(line)\n",
    "    print(name,'added to contacts')\n",
    "    return\n",
    "addcontact(\"name1\",9866956360,\"name1_23@gmail.com\")    \n",
    "#Function to check if contact already exists\n",
    "def checkcontactexists(name):\n",
    "    filename='Datafiles/contacts.txt'\n",
    "    with open(filename, 'r') as f:\n",
    "        filedata=f.read()\n",
    "        pattern=name+','\n",
    "    return re.search(name,filedata)\n",
    "\n",
    "if checkcontactexists(\"name1,\"):\n",
    "    print(True)\n",
    "else:\n",
    "    print(False)\n"
   ]
  },
  {
   "cell_type": "code",
   "execution_count": null,
   "metadata": {},
   "outputs": [],
   "source": [
    "import re\n",
    "from Packages import Validators\n",
    "def addcontact(name,phone,email):\n",
    "    #store data as name,phone,email in the contact file\n",
    "    \n",
    "    filename='Datafiles/contacts.txt'\n",
    "    if not checkcontactexists(name):\n",
    "        if phonenumbervalidator(phone):\n",
    "            with open(filename, 'a') as f:\n",
    "                line=name+', '+ str(phone)+', '+email+'\\n'\n",
    "                f.write(line)\n",
    "            print(name,'added to contacts')\n",
    "        else:\n",
    "            print('invalid phone number or email')\n",
    "            return       "
   ]
  },
  {
   "cell_type": "code",
   "execution_count": 46,
   "metadata": {},
   "outputs": [
    {
     "data": {
      "text/plain": [
       "'name1, 9866956360, name1_23@gmail.com\\nname1, 9866956360, name1_23@gmail.com\\nname1, 9866956360, name1_23@gmail.com\\nname1, 9866956360, name1_23@gmail.com\\nname1, 9866956360, name1_23@gmail.com\\nname1, 9866956360, name1_23@gmail.com\\nname1, 9866956360, name1_23@gmail.com\\nname1, 9866956360, name1_23@gmail.com\\nname1, 9866956360, name1_23@gmail.com\\nname1, 9866956360, name1_23@gmail.com\\nname1, 9866956360, name1_23@gmail.com\\n'"
      ]
     },
     "execution_count": 46,
     "metadata": {},
     "output_type": "execute_result"
    }
   ],
   "source": [
    "filename='Datafiles/contacts.txt'\n",
    "def csvtolist(filename):\n",
    "    li=[]\n",
    "    with open(filename, 'r') as f:\n",
    "        for line in f:\n",
    "            li.append(line.split(','))\n",
    "    return li\n",
    "#list to file\n",
    "def listtofile(li):\n",
    "    s=\"\"\n",
    "    for i in li:\n",
    "        s+=','.join(i)\n",
    "    return s\n",
    "li=csvtolist(filename)\n",
    "listtofile(li)\n",
    "\n",
    "        \n",
    "            \n",
    "   "
   ]
  },
  {
   "cell_type": "code",
   "execution_count": 38,
   "metadata": {},
   "outputs": [],
   "source": [
    "#list to file\n",
    "def listtofile(li):\n",
    "    s=''\n",
    "    for i in li:\n",
    "        s.join(i)\n",
    "        "
   ]
  },
  {
   "cell_type": "code",
   "execution_count": 2,
   "metadata": {},
   "outputs": [
    {
     "name": "stdout",
     "output_type": "stream",
     "text": [
      "12X345-67\n",
      "invalid\n"
     ]
    }
   ],
   "source": [
    "def innocent(s):\n",
    "       f=\"A\",\"E\",\"I\",\"O\",\"U\",\"Y\"\n",
    "       a=int(s[0])+int(s[1])\n",
    "       b=s[2]\n",
    "       c=int(s[3])+int(s[4])\n",
    "       e=int(s[4])+int(s[5])\n",
    "       d=int(s[7])+int(s[8])\n",
    "       #print(a,b,c,e,d)\n",
    "       \n",
    "       if a%2==0 and c%2==0 and e%2==0 and d%2==0 and s[2] not in f:\n",
    "           print(\"valid\")\n",
    "       else:\n",
    "           print(\"invalid\")\n",
    "s=input()\n",
    "innocent(s)\n"
   ]
  },
  {
   "cell_type": "markdown",
   "metadata": {},
   "source": [
    "### file concept with dictionary\n",
    "\n"
   ]
  },
  {
   "cell_type": "code",
   "execution_count": 17,
   "metadata": {},
   "outputs": [],
   "source": [
    "filename='Datafiles/mycontacts.txt'\n",
    "f=open(filename,'a')#\n",
    "f.write(\"\\nraj,9854320765,raj@gmail.com\")\n",
    "f.close()"
   ]
  },
  {
   "cell_type": "code",
   "execution_count": 36,
   "metadata": {},
   "outputs": [],
   "source": [
    "filename='Datafiles/mycontacts.txt'\n",
    "f=open(filename,'a')#\n",
    "f.write(\"rani,9854320785,rani@gmail.com\")\n",
    "f.close()"
   ]
  },
  {
   "cell_type": "code",
   "execution_count": 37,
   "metadata": {},
   "outputs": [
    {
     "name": "stdout",
     "output_type": "stream",
     "text": [
      "\n",
      "raj,9854320765,raj@gmail.comrani,9854320785,rani@gmail.com"
     ]
    }
   ],
   "source": [
    "with open(filename,'r') as f:\n",
    "    for line in f.readlines():\n",
    "        print(line,end='')"
   ]
  },
  {
   "cell_type": "code",
   "execution_count": 25,
   "metadata": {},
   "outputs": [
    {
     "name": "stdout",
     "output_type": "stream",
     "text": [
      "import re\n",
      "def phonenumbervalidator(num):\n",
      "    pattern='[9876][0-9]{9}$|^[0][6-9][0-9]{9}$|^[+][9][1][6-9][0-9]{9}$'\n",
      "    if re.match(pattern,str(num)):\n",
      "                return True\n",
      "                #print(\"valid number\")\n",
      "    else:\n",
      "        return False\n",
      "        #print(\"Invalid number\")            \n",
      "    return\n",
      "def emailval(email):\n",
      "                pattern='^[0-9a-z][0-9a-z_.]{4,13}[0-9a-z]@[0-9a-z]{3,18}[.][a-z]{2,4}$'\n",
      "                if re.match(pattern,email):\n",
      "                    return True\n",
      "                else:\n",
      "                    return False\n",
      "emailval(\"siddu.dad999@gmail.com\")\n"
     ]
    }
   ],
   "source": [
    "def listcontacts(filename):\n",
    "    with open(filename,'r') as f:\n",
    "        for line in f.readlines():\n",
    "            print(line,end='')\n",
    "        \n",
    "filename='Packages/validators.py'\n",
    "listcontacts(filename)        \n",
    "    "
   ]
  },
  {
   "cell_type": "code",
   "execution_count": 26,
   "metadata": {},
   "outputs": [
    {
     "name": "stdout",
     "output_type": "stream",
     "text": [
      "import re\n",
      "\n",
      "def phonenumbervalidator(num):\n",
      "\n",
      "    pattern='[9876][0-9]{9}$|^[0][6-9][0-9]{9}$|^[+][9][1][6-9][0-9]{9}$'\n",
      "\n",
      "    if re.match(pattern,str(num)):\n",
      "\n",
      "                return True\n",
      "\n",
      "                #print(\"valid number\")\n",
      "\n",
      "    else:\n",
      "\n",
      "        return False\n",
      "\n",
      "        #print(\"Invalid number\")            \n",
      "\n",
      "    return\n",
      "\n",
      "def emailval(email):\n",
      "\n",
      "                pattern='^[0-9a-z][0-9a-z_.]{4,13}[0-9a-z]@[0-9a-z]{3,18}[.][a-z]{2,4}$'\n",
      "\n",
      "                if re.match(pattern,email):\n",
      "\n",
      "                    return True\n",
      "\n",
      "                else:\n",
      "\n",
      "                    return False\n",
      "\n",
      "emailval(\"siddu.dad999@gmail.com\")\n",
      "\n"
     ]
    }
   ],
   "source": [
    "with open(filename,'r') as f:\n",
    "    for line in f:\n",
    "        print(line)\n",
    "                \n",
    "                \n",
    "        "
   ]
  },
  {
   "cell_type": "code",
   "execution_count": 2,
   "metadata": {},
   "outputs": [
    {
     "name": "stdout",
     "output_type": "stream",
     "text": [
      "\n",
      "raj,9854320765,raj@gmail.comrani,9854320785,rani@gmail.com"
     ]
    }
   ],
   "source": [
    "filename='Datafiles/mycontacts.txt'\n",
    "with open(filename,'r') as f:\n",
    "    for line in f.readlines():\n",
    "        print(line,end='')"
   ]
  },
  {
   "cell_type": "code",
   "execution_count": 10,
   "metadata": {},
   "outputs": [
    {
     "data": {
      "text/plain": [
       "[['name1', ' 9866956360', ' name1_23@gmail.com\\n'],\n",
       " ['name1', ' 9866956360', ' name1_23@gmail.com\\n'],\n",
       " ['name1', ' 9866956360', ' name1_23@gmail.com\\n'],\n",
       " ['name1', ' 9866956360', ' name1_23@gmail.com\\n'],\n",
       " ['name1', ' 9866956360', ' name1_23@gmail.com\\n'],\n",
       " ['name1', ' 9866956360', ' name1_23@gmail.com\\n'],\n",
       " ['samhi', ' 7708697453', ' samhi_23@gmail.com\\n'],\n",
       " ['siddu', ' 9492904347', ' siddu_13@gmail.com\\n'],\n",
       " ['shanmuk', ' 7702072905', ' shanmuk_18@gmail.com\\n'],\n",
       " ['name1',\n",
       "  ' 9866956360',\n",
       "  ' name1_23@gmail.comname1',\n",
       "  ' 9866956360',\n",
       "  ' name1_23@gmail.com\\n'],\n",
       " ['name1', ' 9866956360', ' name1_23@gmail.com\\n'],\n",
       " ['name1', ' 9866956360', ' name1_23@gmail.com\\n']]"
      ]
     },
     "execution_count": 10,
     "metadata": {},
     "output_type": "execute_result"
    }
   ],
   "source": [
    "def csvtolist(filename):\n",
    "    with open(filename,'r') as f:\n",
    "        f1=[]\n",
    "        for line in f:\n",
    "            f1.append(line.split(sep=','))\n",
    "    return f1\n",
    "csvtolist(filename)"
   ]
  },
  {
   "cell_type": "code",
   "execution_count": 39,
   "metadata": {},
   "outputs": [
    {
     "name": "stdout",
     "output_type": "stream",
     "text": [
      "raj,9854320765,raj@gmail.comrani,9854320785,rani@gmail.com\n"
     ]
    }
   ],
   "source": [
    "def search(fname,name):\n",
    "    f1=listtocsv(fname)\n",
    "    flag=0\n",
    "    for line in f1:\n",
    "        if line[0]==name:\n",
    "            flag=1\n",
    "            print(','.join(line))\n",
    "    if flag==0:\n",
    "        print('contact not found')\n",
    "search(filename,'raj')"
   ]
  },
  {
   "cell_type": "code",
   "execution_count": 33,
   "metadata": {},
   "outputs": [
    {
     "name": "stdout",
     "output_type": "stream",
     "text": [
      "contact not found\n"
     ]
    }
   ],
   "source": [
    "def search(fname,name):\n",
    "    f1=listtocsv(fname)\n",
    "    flag=0\n",
    "    for line in f1:\n",
    "        if line[0]==name:\n",
    "            flag=1\n",
    "            print(','.join(line))\n",
    "    if flag==0:\n",
    "        print('contact not found')\n",
    "search(filename,'rani')"
   ]
  },
  {
   "cell_type": "code",
   "execution_count": 40,
   "metadata": {},
   "outputs": [
    {
     "name": "stdout",
     "output_type": "stream",
     "text": [
      "raj,9854320765,raj@gmail.comrani,9854320785,rani@gmail.com"
     ]
    }
   ],
   "source": [
    "def search(fname,name):\n",
    "    f1=listtocsv(fname)\n",
    "    flag=0\n",
    "    for line in f1:\n",
    "        if line[0]==name:\n",
    "            flag=1\n",
    "            print(','.join(line),end='')\n",
    "    if flag==0:\n",
    "        print('contact not found')\n",
    "search(filename,'raj')"
   ]
  },
  {
   "cell_type": "code",
   "execution_count": 50,
   "metadata": {},
   "outputs": [
    {
     "data": {
      "text/plain": [
       "'Datafiles/mycontacts.txt'"
      ]
     },
     "execution_count": 50,
     "metadata": {},
     "output_type": "execute_result"
    }
   ],
   "source": [
    "filename"
   ]
  },
  {
   "cell_type": "code",
   "execution_count": 9,
   "metadata": {},
   "outputs": [
    {
     "data": {
      "text/plain": [
       "-1"
      ]
     },
     "execution_count": 9,
     "metadata": {},
     "output_type": "execute_result"
    }
   ],
   "source": [
    "#search for given name\n",
    "#if it is present remove the line in fl\n",
    "#else print contact not found\n",
    "#PART2\n",
    "#call ListTOCSV\n",
    "#write the ListTOCSV O/P to file\n",
    "def searchreturnindex(filename,name):\n",
    "    f1=csvtolist(filename)\n",
    "    flag=0\n",
    "    for i in range(len(f1)):\n",
    "        if name==f1[i][0]:\n",
    "            flag=1\n",
    "            return i\n",
    "    if flag==0:\n",
    "        return -1\n",
    "searchreturnindex(filename,'rani')           "
   ]
  },
  {
   "cell_type": "code",
   "execution_count": 6,
   "metadata": {},
   "outputs": [],
   "source": [
    "l=[1,22,34,56]\n",
    "l.remove(34)"
   ]
  },
  {
   "cell_type": "code",
   "execution_count": 11,
   "metadata": {},
   "outputs": [
    {
     "data": {
      "text/plain": [
       "[['name1', ' 9866956360', ' name1_23@gmail.com\\n'],\n",
       " ['name1', ' 9866956360', ' name1_23@gmail.com\\n'],\n",
       " ['name1', ' 9866956360', ' name1_23@gmail.com\\n'],\n",
       " ['name1', ' 9866956360', ' name1_23@gmail.com\\n'],\n",
       " ['name1', ' 9866956360', ' name1_23@gmail.com\\n'],\n",
       " ['name1', ' 9866956360', ' name1_23@gmail.com\\n'],\n",
       " ['samhi', ' 7708697453', ' samhi_23@gmail.com\\n'],\n",
       " ['siddu', ' 9492904347', ' siddu_13@gmail.com\\n'],\n",
       " ['shanmuk', ' 7702072905', ' shanmuk_18@gmail.com\\n'],\n",
       " ['name1',\n",
       "  ' 9866956360',\n",
       "  ' name1_23@gmail.comname1',\n",
       "  ' 9866956360',\n",
       "  ' name1_23@gmail.com\\n'],\n",
       " ['name1', ' 9866956360', ' name1_23@gmail.com\\n'],\n",
       " ['name1', ' 9866956360', ' name1_23@gmail.com\\n']]"
      ]
     },
     "execution_count": 11,
     "metadata": {},
     "output_type": "execute_result"
    }
   ],
   "source": [
    "filename='Datafiles/contacts.txt'\n",
    "def csvtolist(filename):\n",
    "    li=[]\n",
    "    with open(filename, 'r') as f:\n",
    "        for line in f:\n",
    "            li.append(line.split(','))\n",
    "    return li\n",
    "csvtolist(filename)"
   ]
  },
  {
   "cell_type": "code",
   "execution_count": 63,
   "metadata": {},
   "outputs": [
    {
     "data": {
      "text/plain": [
       "'name1, 9866956360, name1_23@gmail.com\\nname1, 9866956360, name1_23@gmail.com\\nname1, 9866956360, name1_23@gmail.com\\nname1, 9866956360, name1_23@gmail.com\\nname1, 9866956360, name1_23@gmail.com\\nname1, 9866956360, name1_23@gmail.com\\nname1, 9866956360, name1_23@gmail.com\\nname1, 9866956360, name1_23@gmail.com\\nname1, 9866956360, name1_23@gmail.com\\nname1, 9866956360, name1_23@gmail.com\\nname1, 9866956360, name1_23@gmail.com\\n'"
      ]
     },
     "execution_count": 63,
     "metadata": {},
     "output_type": "execute_result"
    }
   ],
   "source": [
    "def listtofile(li):\n",
    "    s=\"\"\n",
    "    for i in li:\n",
    "        s+=','.join(i)\n",
    "    return s\n",
    "li=csvtolist(filename)\n",
    "listtofile(li)\n"
   ]
  },
  {
   "cell_type": "code",
   "execution_count": 10,
   "metadata": {},
   "outputs": [
    {
     "name": "stdout",
     "output_type": "stream",
     "text": [
      "contact is not found to remove\n"
     ]
    }
   ],
   "source": [
    "def contactdelete(filename,name):\n",
    "    i=search(filename,name)\n",
    "    if i!=-1:\n",
    "        f1=csvtolist(filename)\n",
    "        f1.pop(i)\n",
    "        s=listtofile(f1)\n",
    "        with open(filename,'w') as f:\n",
    "            f.write(s)\n",
    "    else:\n",
    "        print(\"contact is not found to remove\")\n",
    "        \n",
    "contactdelete(filename,'name1')            \n",
    "            "
   ]
  },
  {
   "cell_type": "code",
   "execution_count": 68,
   "metadata": {},
   "outputs": [
    {
     "data": {
      "text/plain": [
       "'Datafiles/contacts.txt'"
      ]
     },
     "execution_count": 68,
     "metadata": {},
     "output_type": "execute_result"
    }
   ],
   "source": [
    "filename\n"
   ]
  },
  {
   "cell_type": "code",
   "execution_count": 16,
   "metadata": {},
   "outputs": [
    {
     "data": {
      "text/plain": [
       "-1"
      ]
     },
     "execution_count": 16,
     "metadata": {},
     "output_type": "execute_result"
    }
   ],
   "source": [
    "#search with return\n",
    "def searchwithreturn(filename,name):\n",
    "    f1=csvtolist(filename)\n",
    "    flag=0\n",
    "    for i in range (len(f1)):\n",
    "        if name==f1[i][0]:\n",
    "            flag=1\n",
    "            return i\n",
    "    if flag==0:\n",
    "        return -1\n",
    "\n",
    "searchwithreturn(\"Datafiles/Contacts.txt\",\"name2 \")\n"
   ]
  },
  {
   "cell_type": "code",
   "execution_count": 22,
   "metadata": {},
   "outputs": [
    {
     "ename": "NameError",
     "evalue": "name 'searchwithretrun' is not defined",
     "output_type": "error",
     "traceback": [
      "\u001b[1;31m---------------------------------------------------------------------------\u001b[0m",
      "\u001b[1;31mNameError\u001b[0m                                 Traceback (most recent call last)",
      "\u001b[1;32m<ipython-input-22-b1c2e266e3c0>\u001b[0m in \u001b[0;36m<module>\u001b[1;34m\u001b[0m\n\u001b[0;32m     32\u001b[0m         \u001b[0mprint\u001b[0m\u001b[1;33m(\u001b[0m\u001b[1;34m\"contact not found\"\u001b[0m\u001b[1;33m)\u001b[0m\u001b[1;33m\u001b[0m\u001b[1;33m\u001b[0m\u001b[0m\n\u001b[0;32m     33\u001b[0m \u001b[1;33m\u001b[0m\u001b[0m\n\u001b[1;32m---> 34\u001b[1;33m \u001b[0mupdatecontact\u001b[0m\u001b[1;33m(\u001b[0m\u001b[0mfilename\u001b[0m\u001b[1;33m,\u001b[0m\u001b[1;34m\"name2 \"\u001b[0m\u001b[1;33m,\u001b[0m\u001b[1;34m\"1\"\u001b[0m\u001b[1;33m,\u001b[0m\u001b[1;34m\"9550324094\"\u001b[0m\u001b[1;33m)\u001b[0m\u001b[1;33m\u001b[0m\u001b[1;33m\u001b[0m\u001b[0m\n\u001b[0m",
      "\u001b[1;32m<ipython-input-22-b1c2e266e3c0>\u001b[0m in \u001b[0;36mupdatecontact\u001b[1;34m(filename, name, f, value)\u001b[0m\n\u001b[0;32m      2\u001b[0m \u001b[1;31m#adding line numbers in file\u001b[0m\u001b[1;33m\u001b[0m\u001b[1;33m\u001b[0m\u001b[1;33m\u001b[0m\u001b[0m\n\u001b[0;32m      3\u001b[0m \u001b[1;32mdef\u001b[0m \u001b[0mupdatecontact\u001b[0m\u001b[1;33m(\u001b[0m\u001b[0mfilename\u001b[0m\u001b[1;33m,\u001b[0m\u001b[0mname\u001b[0m\u001b[1;33m,\u001b[0m\u001b[0mf\u001b[0m\u001b[1;33m,\u001b[0m\u001b[0mvalue\u001b[0m\u001b[1;33m)\u001b[0m\u001b[1;33m:\u001b[0m\u001b[1;33m\u001b[0m\u001b[1;33m\u001b[0m\u001b[0m\n\u001b[1;32m----> 4\u001b[1;33m     \u001b[1;32mif\u001b[0m\u001b[1;33m(\u001b[0m\u001b[0msearchwithretrun\u001b[0m\u001b[1;33m(\u001b[0m\u001b[0mfilename\u001b[0m\u001b[1;33m,\u001b[0m\u001b[0mname\u001b[0m\u001b[1;33m)\u001b[0m\u001b[1;33m>=\u001b[0m\u001b[1;36m0\u001b[0m\u001b[1;33m)\u001b[0m\u001b[1;33m:\u001b[0m\u001b[1;33m\u001b[0m\u001b[1;33m\u001b[0m\u001b[0m\n\u001b[0m\u001b[0;32m      5\u001b[0m         \u001b[0mi\u001b[0m\u001b[1;33m=\u001b[0m\u001b[0msearchwithreturn\u001b[0m\u001b[1;33m(\u001b[0m\u001b[0mfilename\u001b[0m\u001b[1;33m,\u001b[0m\u001b[0mname\u001b[0m\u001b[1;33m)\u001b[0m\u001b[1;33m\u001b[0m\u001b[1;33m\u001b[0m\u001b[0m\n\u001b[0;32m      6\u001b[0m         \u001b[1;32mif\u001b[0m\u001b[1;33m(\u001b[0m\u001b[1;33m(\u001b[0m\u001b[0mint\u001b[0m\u001b[1;33m(\u001b[0m\u001b[0mf\u001b[0m\u001b[1;33m)\u001b[0m\u001b[1;33m==\u001b[0m\u001b[1;36m0\u001b[0m\u001b[1;33m)\u001b[0m\u001b[1;33m)\u001b[0m\u001b[1;33m:\u001b[0m\u001b[1;33m\u001b[0m\u001b[1;33m\u001b[0m\u001b[0m\n",
      "\u001b[1;31mNameError\u001b[0m: name 'searchwithretrun' is not defined"
     ]
    }
   ],
   "source": [
    "#Modify (updata) contact details in afile\n",
    "#adding line numbers in file\n",
    "def updatecontact(filename,name,f,value):\n",
    "    if(searchwithretrun(filename,name)>=0):\n",
    "        i=searchwithreturn(filename,name)\n",
    "        if((int(f)==0)):\n",
    "            f1=csvTolist(filename)\n",
    "            f1[i].pop(0)\n",
    "            f1[i].insert(0,value)\n",
    "            s=listtoFile(f1)\n",
    "            with open(filename,'w')as f:\n",
    "                f.write(s)\n",
    "                print(\"name updated\")\n",
    "        \n",
    "        elif((int(f))==1):\n",
    "            f1=csvtolist(filename)\n",
    "            f1[i].pop(1)\n",
    "            f1[i].insert(1,value)\n",
    "            s=listToFile(f1)\n",
    "            with open(filename,'w')as f:\n",
    "                f.write(s)\n",
    "                print(\"phone no updated\")\n",
    "        elif((int(f))==2):\n",
    "            f1=csvtolist(filename)\n",
    "            f1[i].pop(2)\n",
    "            f1[i].insert(2,value)\n",
    "            s=listToFile(f1)\n",
    "            with open(filename,'w')as f:\n",
    "                f.write(s)\n",
    "                print(\"email updated\")\n",
    "    else:\n",
    "        print(\"contact not found\")\n",
    "        \n",
    "updatecontact(filename,\"name2 \",\"1\",\"9550324094\")"
   ]
  },
  {
   "cell_type": "code",
   "execution_count": null,
   "metadata": {},
   "outputs": [],
   "source": []
  }
 ],
 "metadata": {
  "kernelspec": {
   "display_name": "Python 3",
   "language": "python",
   "name": "python3"
  },
  "language_info": {
   "codemirror_mode": {
    "name": "ipython",
    "version": 3
   },
   "file_extension": ".py",
   "mimetype": "text/x-python",
   "name": "python",
   "nbconvert_exporter": "python",
   "pygments_lexer": "ipython3",
   "version": "3.7.3"
  }
 },
 "nbformat": 4,
 "nbformat_minor": 2
}

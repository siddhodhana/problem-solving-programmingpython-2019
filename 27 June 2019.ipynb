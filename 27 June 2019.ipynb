{
 "cells": [
  {
   "cell_type": "code",
   "execution_count": 4,
   "metadata": {},
   "outputs": [
    {
     "name": "stdout",
     "output_type": "stream",
     "text": [
      "[1, 9, 8, 7, 6, 5, 3, 4, 2]\n"
     ]
    }
   ],
   "source": [
    "def kthLatgest(li):\n",
    "    cli=li\n",
    "    while(True):\n",
    "        li2=differencePairs(li) \n",
    "        if len(li2)==0:\n",
    "            break\n",
    "    return li\n",
    "\n",
    "def differencePairs(li):#Print the difference numbers if is not in li\n",
    "    newelements=[]\n",
    "    for i in range(len(li)-1):\n",
    "        for j in range(i+1,len(li)):\n",
    "            difference=abs(li[i]-li[j])\n",
    "            if difference not in li:\n",
    "                newelements.append(difference)\n",
    "        li.extend(newelements)\n",
    "    return newelements\n",
    "li=[1,9,8,7,6,5,3,4,2]               \n",
    "print(kthLatgest(li))"
   ]
  },
  {
   "cell_type": "code",
   "execution_count": 5,
   "metadata": {},
   "outputs": [
    {
     "name": "stdout",
     "output_type": "stream",
     "text": [
      "8\n"
     ]
    }
   ],
   "source": [
    "##second largest number\n",
    "def kthLatgestmodel2(li,k):  # Constant array\n",
    "    while(True):\n",
    "        li2=differencePairs(li) #[1,9,8,7,6,5,4,3,2]\n",
    "        #print(li2)\n",
    "        if li2[0]==li2[1]:\n",
    "            break\n",
    "    if len(li2[0])>k:\n",
    "        return sorted(li2[0],reverse=True)[k-1]\n",
    "    else:\n",
    "        return -1\n",
    "\n",
    "def differencePairs(li):#Print the difference numbers if is not in li\n",
    "    cli=li[:]  #print(cli)\n",
    "    newelements=[]\n",
    "    for i in range(len(li)-1):\n",
    "        for j in range(i+1,len(li)):\n",
    "            difference=abs(li[i]-li[j])\n",
    "            if difference not in li:\n",
    "                newelements.append(difference)\n",
    "        li.extend(newelements)\n",
    "    return [cli,li] \n",
    "li=[1,9]\n",
    "print(kthLatgestmodel2(li,2))"
   ]
  },
  {
   "cell_type": "markdown",
   "metadata": {},
   "source": [
    " ### Function to print all combination of pairs if integers in a unique list\n",
    " \n",
    " [1,2,3]--> (1,2),(2,3),(2,3)///3c2 # 3!/((3-2)!)*r!\n",
    "\n",
    "ncr=n!/(n-r)!*r!"
   ]
  },
  {
   "cell_type": "code",
   "execution_count": 5,
   "metadata": {},
   "outputs": [
    {
     "name": "stdout",
     "output_type": "stream",
     "text": [
      "1 2\n",
      "1 3\n",
      "1 4\n",
      "2 3\n",
      "2 4\n",
      "3 4\n"
     ]
    }
   ],
   "source": [
    "#Function to print all combinations of pairs of integers in a unique list\n",
    "\n",
    "#[1,2,3]-->(1,2),(1,3),(2,3)->3c2_--->3!/((3-2)!*2!)\n",
    "\n",
    "#[1,2,3,4]-->(1,2),(1,3),(1,4),(2,3),(2,4),(3.4)\n",
    "\n",
    "def combinations(li):\n",
    "    for i in range(len(li)-1):\n",
    "        for j in range(i+1,len(li)):\n",
    "            print(li[i],li[j])\n",
    "li=[1,2,3,4]\n",
    "combinations(li)            \n",
    "        "
   ]
  },
  {
   "cell_type": "code",
   "execution_count": 11,
   "metadata": {},
   "outputs": [
    {
     "name": "stdout",
     "output_type": "stream",
     "text": [
      "1 2 3\n",
      "1 2 4\n",
      "1 3 4\n",
      "2 3 4\n"
     ]
    }
   ],
   "source": [
    "#three combinations[1,2,3,4]-->(1,2,3),(1,2,4),(1,3,4),(2,3,4)\n",
    "def threecombinations(li):\n",
    "    for i in range(len(li)-2):\n",
    "        for j in range(i+1,len(li)-1):\n",
    "            for k in range(j+1,len(li)):\n",
    "                print(li[i],li[j],li[k])\n",
    "                                   \n",
    "    return        \n",
    "li=[1,2,3,4]\n",
    "threecombinations(li)"
   ]
  },
  {
   "cell_type": "code",
   "execution_count": 60,
   "metadata": {},
   "outputs": [
    {
     "name": "stdout",
     "output_type": "stream",
     "text": [
      "[1, 9]\n",
      "[[1, 9], [1, 9, 8]]\n",
      "[1, 9, 8]\n",
      "[[1, 9, 8], [1, 9, 8, 7, 7, 2]]\n",
      "[1, 9, 8, 7, 7, 2]\n",
      "[[1, 9, 8, 7, 7, 2], [1, 9, 8, 7, 7, 2, 6, 6, 6, 6, 3, 3, 6, 6, 3, 3, 5, 5, 6, 6, 3, 3, 5, 5, 0, 4, 4, 4, 4, 6, 6, 3, 3, 5, 5, 0, 4, 4, 4, 4]]\n",
      "[1, 9, 8, 7, 7, 2, 6, 6, 6, 6, 3, 3, 6, 6, 3, 3, 5, 5, 6, 6, 3, 3, 5, 5, 0, 4, 4, 4, 4, 6, 6, 3, 3, 5, 5, 0, 4, 4, 4, 4]\n",
      "[[1, 9, 8, 7, 7, 2, 6, 6, 6, 6, 3, 3, 6, 6, 3, 3, 5, 5, 6, 6, 3, 3, 5, 5, 0, 4, 4, 4, 4, 6, 6, 3, 3, 5, 5, 0, 4, 4, 4, 4], [1, 9, 8, 7, 7, 2, 6, 6, 6, 6, 3, 3, 6, 6, 3, 3, 5, 5, 6, 6, 3, 3, 5, 5, 0, 4, 4, 4, 4, 6, 6, 3, 3, 5, 5, 0, 4, 4, 4, 4]]\n",
      "8\n"
     ]
    }
   ],
   "source": [
    "#[1,2,3]->[1,2,3]\n",
    "def medium(li,k):\n",
    "    #li3=[[],li]\n",
    "    while(True):\n",
    "        li3=differencepairs(li)\n",
    "        print(li3)\n",
    "        if li3[0]==li3[1]:\n",
    "            break\n",
    "    if len(li3[0])>k:\n",
    "        return sorted (li3[0],reverse=True)[k-1]\n",
    "    else:\n",
    "        return -1\n",
    "#function to identify differences of all\n",
    "#pairs of numbers and add those differences to the list it returns the updated list and original list\n",
    "def differencepairs(li):\n",
    "    cli=li[:]\n",
    "    print(cli)\n",
    "    newelements=[]\n",
    "    for i in range(len(li)-1):\n",
    "        for j in range(i+1,len(li)):\n",
    "            d=abs(li[i]-li[j])\n",
    "            if d not in li:\n",
    "                newelements.append(d)\n",
    "    li.extend(newelements)       \n",
    "    return [cli,li] \n",
    "li=[1,9]\n",
    "print(medium(li,2))"
   ]
  },
  {
   "cell_type": "code",
   "execution_count": 23,
   "metadata": {},
   "outputs": [],
   "source": [
    "l=abs(1.5)"
   ]
  },
  {
   "cell_type": "code",
   "execution_count": 41,
   "metadata": {},
   "outputs": [
    {
     "data": {
      "text/plain": [
       "[3, 4, 5, 6, 7, 5]"
      ]
     },
     "execution_count": 41,
     "metadata": {},
     "output_type": "execute_result"
    }
   ],
   "source": [
    "a=[1,2,3,4]\n",
    "b=[3,4,5,6]\n",
    "a=b\n",
    "a.append(7)\n",
    "a\n",
    "b.append(5)\n",
    "a"
   ]
  },
  {
   "cell_type": "code",
   "execution_count": null,
   "metadata": {},
   "outputs": [],
   "source": [
    "[4,8]\n",
    "[20,40,60]\n",
    "[4,8,12,16]\n",
    "[3,6,9,12]\n",
    "#convert the list into an arithmetic progression"
   ]
  },
  {
   "cell_type": "markdown",
   "metadata": {},
   "source": [
    "### Set -Data Structure in Python\n",
    "\n",
    "Represented by '{}'\n"
   ]
  },
  {
   "cell_type": "code",
   "execution_count": 11,
   "metadata": {},
   "outputs": [
    {
     "data": {
      "text/plain": [
       "{1, 2, 3, 4, 5, 6, 7, 8, 9, 11, 12, 13}"
      ]
     },
     "execution_count": 11,
     "metadata": {},
     "output_type": "execute_result"
    }
   ],
   "source": [
    "a={1,2,3,4,5,6,6} #which called as set and it is immutable and they r not order\n",
    "\n",
    "a.add(7)# add is a method and this is for adding single element\n",
    "\n",
    "#for i in a:\n",
    " #   print(i,end=' ')   ->Accessing element in for loop\n",
    "b={7,8,9}\n",
    "li=[11,12,13,1]\n",
    "\n",
    "a.update(b,li) # Adding multiple elements\n",
    "a"
   ]
  },
  {
   "cell_type": "code",
   "execution_count": 12,
   "metadata": {},
   "outputs": [
    {
     "data": {
      "text/plain": [
       "{1, 2, 3, 4, 5, 6, 7, 8, 9, 11, 13}"
      ]
     },
     "execution_count": 12,
     "metadata": {},
     "output_type": "execute_result"
    }
   ],
   "source": [
    "a.discard(12) #if we want to remove single element then use discard\n",
    "a"
   ]
  },
  {
   "cell_type": "code",
   "execution_count": 14,
   "metadata": {},
   "outputs": [
    {
     "data": {
      "text/plain": [
       "{1, 2, 3, 4, 5, 7, 8, 9, 10, 67}"
      ]
     },
     "execution_count": 14,
     "metadata": {},
     "output_type": "execute_result"
    }
   ],
   "source": [
    "a={10,2,3,4,5,67,8,9}\n",
    "b={7,8,9,1,2,3}\n",
    "\n",
    "a.union(b)\n",
    "# A U B=B U A"
   ]
  },
  {
   "cell_type": "code",
   "execution_count": 19,
   "metadata": {},
   "outputs": [
    {
     "data": {
      "text/plain": [
       "{2, 3, 8, 9}"
      ]
     },
     "execution_count": 19,
     "metadata": {},
     "output_type": "execute_result"
    }
   ],
   "source": [
    "a={10,2,3,4,5,67,8,9}\n",
    "\n",
    "b={7,8,9,1,2,3}\n",
    "\n",
    "c={23,45,78,9,56}\n",
    "\n",
    "a.intersection(b)"
   ]
  },
  {
   "cell_type": "code",
   "execution_count": 25,
   "metadata": {},
   "outputs": [
    {
     "data": {
      "text/plain": [
       "True"
      ]
     },
     "execution_count": 25,
     "metadata": {},
     "output_type": "execute_result"
    }
   ],
   "source": [
    "a={1,12}\n",
    "\n",
    "b={2,8}\n",
    "a.isdisjoint(b) #is not same elements true  display"
   ]
  },
  {
   "cell_type": "code",
   "execution_count": 26,
   "metadata": {},
   "outputs": [
    {
     "data": {
      "text/plain": [
       "False"
      ]
     },
     "execution_count": 26,
     "metadata": {},
     "output_type": "execute_result"
    }
   ],
   "source": [
    "a={1,12}\n",
    "\n",
    "b={1,12}\n",
    "a.isdisjoint(b) # same elements false display"
   ]
  },
  {
   "cell_type": "code",
   "execution_count": 21,
   "metadata": {},
   "outputs": [
    {
     "data": {
      "text/plain": [
       "{4, 5, 10, 67}"
      ]
     },
     "execution_count": 21,
     "metadata": {},
     "output_type": "execute_result"
    }
   ],
   "source": [
    "a={10,2,3,4,5,67,8,9}\n",
    "\n",
    "b={7,8,9,1,2,3}\n",
    "\n",
    "c={23,45,78,9,56}\n",
    "\n",
    "a - b #All elements of a which are not in b\n"
   ]
  },
  {
   "cell_type": "code",
   "execution_count": 22,
   "metadata": {},
   "outputs": [
    {
     "data": {
      "text/plain": [
       "[2, 3, 4, 5, 8, 9, 10, 67]"
      ]
     },
     "execution_count": 22,
     "metadata": {},
     "output_type": "execute_result"
    }
   ],
   "source": [
    "sorted(a)"
   ]
  },
  {
   "cell_type": "code",
   "execution_count": 27,
   "metadata": {},
   "outputs": [
    {
     "data": {
      "text/plain": [
       "{1, 2, 5, 6, 9, 10, 34, 67}"
      ]
     },
     "execution_count": 27,
     "metadata": {},
     "output_type": "execute_result"
    }
   ],
   "source": [
    "a={1,2,34,5,67,7,8}\n",
    "b={6,7,8,9,10}\n",
    "a^b   # Elements is a or b except common of both"
   ]
  },
  {
   "cell_type": "code",
   "execution_count": 28,
   "metadata": {},
   "outputs": [
    {
     "data": {
      "text/plain": [
       "set()"
      ]
     },
     "execution_count": 28,
     "metadata": {},
     "output_type": "execute_result"
    }
   ],
   "source": [
    "d=set() # creats an empty set\n",
    "d\n"
   ]
  },
  {
   "cell_type": "code",
   "execution_count": 29,
   "metadata": {},
   "outputs": [
    {
     "data": {
      "text/plain": [
       "{1, 2, 3, 4, 6}"
      ]
     },
     "execution_count": 29,
     "metadata": {},
     "output_type": "execute_result"
    }
   ],
   "source": [
    "li=[1,2,3,4,6,1,2,3,4]\n",
    "u=set(li)\n",
    "u"
   ]
  },
  {
   "cell_type": "markdown",
   "metadata": {},
   "source": [
    "### FUNCTIONAL PROGRAMMING\n",
    "\n",
    "Procedural : c\n",
    "    \n",
    "object oriented :java,python\n",
    "    \n",
    "Scripting -PHP,Python,JavaScript,Shell\n",
    "\n",
    "Functional : python,Haskell,Scala\n",
    "\n",
    "Logic: Prolog,Lisp"
   ]
  },
  {
   "cell_type": "markdown",
   "metadata": {},
   "source": [
    "### LIST COMPREHENSIONS"
   ]
  },
  {
   "cell_type": "code",
   "execution_count": 33,
   "metadata": {},
   "outputs": [
    {
     "data": {
      "text/plain": [
       "[1, 2, 3, 4, 5, 6, 7, 8, 9, 10]"
      ]
     },
     "execution_count": 33,
     "metadata": {},
     "output_type": "execute_result"
    }
   ],
   "source": [
    "# List of N natural numbers\n",
    "n=10\n",
    "li=[]\n",
    "for i in range(1,n+1):\n",
    "    li.append(i)\n",
    "    \n",
    "li    "
   ]
  },
  {
   "cell_type": "code",
   "execution_count": 34,
   "metadata": {},
   "outputs": [
    {
     "data": {
      "text/plain": [
       "[1, 2, 3, 4, 5, 6, 7, 8, 9, 10]"
      ]
     },
     "execution_count": 34,
     "metadata": {},
     "output_type": "execute_result"
    }
   ],
   "source": [
    "li=[i for i in range(1,11)]\n",
    "li"
   ]
  },
  {
   "cell_type": "code",
   "execution_count": 36,
   "metadata": {},
   "outputs": [
    {
     "data": {
      "text/plain": [
       "[1, 8, 27, 64, 125, 216, 343, 512, 729, 1000]"
      ]
     },
     "execution_count": 36,
     "metadata": {},
     "output_type": "execute_result"
    }
   ],
   "source": [
    "#Apply list comprehension to store the cubes on n natural numbers\n",
    "\n",
    "li=[i**3 for i in range(1,11)]\n",
    "li"
   ]
  },
  {
   "cell_type": "code",
   "execution_count": 40,
   "metadata": {},
   "outputs": [
    {
     "data": {
      "text/plain": [
       "[0.5, 1.0, 1.5, 2.0, 2.5, 3.0, 3.5, 4.0, 4.5, 5.0]"
      ]
     },
     "execution_count": 40,
     "metadata": {},
     "output_type": "execute_result"
    }
   ],
   "source": [
    "li=[i*0.5 for i in range(1,11)]\n",
    "li"
   ]
  },
  {
   "cell_type": "code",
   "execution_count": 45,
   "metadata": {},
   "outputs": [
    {
     "data": {
      "text/plain": [
       "[1.0, 1.4142135623730951, 1.7320508075688772, 2.0]"
      ]
     },
     "execution_count": 45,
     "metadata": {},
     "output_type": "execute_result"
    }
   ],
   "source": [
    "from math import sqrt as s\n",
    "li=[s(i) for i in range(1,5)]   \n",
    "li"
   ]
  },
  {
   "cell_type": "code",
   "execution_count": 46,
   "metadata": {},
   "outputs": [
    {
     "data": {
      "text/plain": [
       "[1.0, 1.4142135623730951, 1.7320508075688772, 2.0]"
      ]
     },
     "execution_count": 46,
     "metadata": {},
     "output_type": "execute_result"
    }
   ],
   "source": [
    "import math\n",
    "li=[math.sqrt(i) for i in range(1,5)]\n",
    "li"
   ]
  },
  {
   "cell_type": "code",
   "execution_count": 53,
   "metadata": {},
   "outputs": [
    {
     "data": {
      "text/plain": [
       "24"
      ]
     },
     "execution_count": 53,
     "metadata": {},
     "output_type": "execute_result"
    }
   ],
   "source": [
    "# Function product of n natural numbers(factorial)\n",
    "def factorial(n):\n",
    "    if n==0 or n==1:\n",
    "        return 1\n",
    "    return n * factorial(n-1)\n",
    "factorial(4)\n"
   ]
  },
  {
   "cell_type": "code",
   "execution_count": 52,
   "metadata": {},
   "outputs": [
    {
     "data": {
      "text/plain": [
       "[1, 2, 6, 24, 120]"
      ]
     },
     "execution_count": 52,
     "metadata": {},
     "output_type": "execute_result"
    }
   ],
   "source": [
    "#Apply list comprehension to calculate \n",
    "#factorial of n natural numbers\n",
    "  \n",
    "n=5\n",
    "factoriallist=[factorial(i) for i in range (1,n+1)]\n",
    "factoriallist\n"
   ]
  },
  {
   "cell_type": "code",
   "execution_count": 55,
   "metadata": {},
   "outputs": [
    {
     "data": {
      "text/plain": [
       "[1, 3, 6, 10, 15, 21]"
      ]
     },
     "execution_count": 55,
     "metadata": {},
     "output_type": "execute_result"
    }
   ],
   "source": [
    "#Store cumulative sum of numbers till n in a list\n",
    "#n=3--> output is [1,3,6]\n",
    "n=6\n",
    "cumulativesum=[sum(range(1,i+1)) for i in range(1,n+1)]\n",
    "cumulativesum   "
   ]
  },
  {
   "cell_type": "code",
   "execution_count": 62,
   "metadata": {},
   "outputs": [
    {
     "data": {
      "text/plain": [
       "[1972, 1976, 1980, 1984, 1988, 1992, 1996, 2000, 2004, 2008, 2012, 2016]"
      ]
     },
     "execution_count": 62,
     "metadata": {},
     "output_type": "execute_result"
    }
   ],
   "source": [
    "#list comprehension to store only\n",
    "#leapyears in a given time period\n",
    "sy=1970\n",
    "ey=2019\n",
    "#leapyears=[]\n",
    "#leapyear=[1972,1976,1980,....2016]\n",
    "ly=[year for year in range(sy,ey+1) if(year%400==0 or year%4==0 and year%100!=0)]\n",
    "ly"
   ]
  },
  {
   "cell_type": "code",
   "execution_count": 69,
   "metadata": {},
   "outputs": [
    {
     "data": {
      "text/plain": [
       "[1, 2, 3, 4, 5, 6]"
      ]
     },
     "execution_count": 69,
     "metadata": {},
     "output_type": "execute_result"
    }
   ],
   "source": [
    "li=[1,2,3,2,5,6,2,1]\n",
    "u2=[]\n",
    "unique=[]\n",
    "#unique=[i for i in range(0\n",
    ",len(li)-1) if sorted(li)[i]!=sorted(li)+[i+1]]\n",
    "unique=[u2.append(i) for i in li if i not ]"
   ]
  },
  {
   "cell_type": "markdown",
   "metadata": {},
   "source": [
    "### Iterators\n",
    "\n",
    "- Iterable- Strings,Lists,Tuples,Sets,Dictionaries\n",
    "\n",
    "- Convert Iterable to Iterator-->iter()\n",
    "- For Loop: \n",
    "\n",
    "\n",
    "- Iterator:"
   ]
  },
  {
   "cell_type": "code",
   "execution_count": 77,
   "metadata": {},
   "outputs": [
    {
     "name": "stdout",
     "output_type": "stream",
     "text": [
      "p\n",
      "y\n"
     ]
    },
    {
     "data": {
      "text/plain": [
       "'t'"
      ]
     },
     "execution_count": 77,
     "metadata": {},
     "output_type": "execute_result"
    }
   ],
   "source": [
    "it=iter('python')\n",
    "print(next(it))\n",
    "print(next(it))\n",
    "next(it)"
   ]
  },
  {
   "cell_type": "code",
   "execution_count": 73,
   "metadata": {},
   "outputs": [
    {
     "name": "stdout",
     "output_type": "stream",
     "text": [
      "y\n",
      "h\n",
      "n\n"
     ]
    }
   ],
   "source": [
    "it=iter('python')\n",
    "for i in it:\n",
    "    print(next(it))"
   ]
  },
  {
   "cell_type": "code",
   "execution_count": 78,
   "metadata": {},
   "outputs": [
    {
     "name": "stdout",
     "output_type": "stream",
     "text": [
      "1: \n",
      "p\n",
      "\n",
      "\n",
      "2: \n",
      "y\n"
     ]
    }
   ],
   "source": [
    "it=iter('python')\n",
    "\n",
    "print('1: ')\n",
    "print(next(it))\n",
    "print('\\n')\n",
    "print('2: ')\n",
    "print(next(it))\n"
   ]
  },
  {
   "cell_type": "markdown",
   "metadata": {},
   "source": [
    "### Generator\n",
    "\n",
    "Generator is a function"
   ]
  },
  {
   "cell_type": "code",
   "execution_count": 83,
   "metadata": {},
   "outputs": [
    {
     "data": {
      "text/plain": [
       "8"
      ]
     },
     "execution_count": 83,
     "metadata": {},
     "output_type": "execute_result"
    }
   ],
   "source": [
    "def generator():\n",
    "    n=2\n",
    "    yield n\n",
    "    \n",
    "    n=n **3\n",
    "    yield n\n",
    "    \n",
    "    n=n **3\n",
    "    yield n\n",
    "a=generator()\n",
    "\n",
    "next(a)\n",
    "next(a)"
   ]
  },
  {
   "cell_type": "code",
   "execution_count": 85,
   "metadata": {},
   "outputs": [
    {
     "data": {
      "text/plain": [
       "35184372088832"
      ]
     },
     "execution_count": 85,
     "metadata": {},
     "output_type": "execute_result"
    }
   ],
   "source": [
    "def generator():\n",
    "    n=2\n",
    "    for i in range(1,5):\n",
    "        n**=3\n",
    "        yield n\n",
    "        \n",
    "a=generator()\n",
    "\n",
    "next(a)\n",
    "b=next(a) ** 2\n",
    "b*=next(a)\n",
    "b"
   ]
  },
  {
   "cell_type": "code",
   "execution_count": 87,
   "metadata": {},
   "outputs": [
    {
     "name": "stdout",
     "output_type": "stream",
     "text": [
      "8\n",
      "512\n",
      "134217728\n",
      "2417851639229258349412352\n",
      "14134776518227074636666380005943348126619871175004951664972849610340958208\n"
     ]
    }
   ],
   "source": [
    "def generator():\n",
    "    n=2\n",
    "    while True:\n",
    "        n**=3\n",
    "        yield n\n",
    "        \n",
    "a=generator()\n",
    "for i in range(5):\n",
    "    print(next(a))"
   ]
  },
  {
   "cell_type": "code",
   "execution_count": null,
   "metadata": {},
   "outputs": [],
   "source": []
  }
 ],
 "metadata": {
  "kernelspec": {
   "display_name": "Python 3",
   "language": "python",
   "name": "python3"
  },
  "language_info": {
   "codemirror_mode": {
    "name": "ipython",
    "version": 3
   },
   "file_extension": ".py",
   "mimetype": "text/x-python",
   "name": "python",
   "nbconvert_exporter": "python",
   "pygments_lexer": "ipython3",
   "version": "3.7.3"
  }
 },
 "nbformat": 4,
 "nbformat_minor": 2
}

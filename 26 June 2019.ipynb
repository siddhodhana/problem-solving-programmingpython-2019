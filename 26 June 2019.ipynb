{
 "cells": [
  {
   "cell_type": "markdown",
   "metadata": {},
   "source": [
    "### Exam problem kth largest"
   ]
  },
  {
   "cell_type": "code",
   "execution_count": 2,
   "metadata": {},
   "outputs": [
    {
     "name": "stdout",
     "output_type": "stream",
     "text": [
      "1\n",
      "aabvc\n",
      "2\n",
      "{'a': 2, 'b': 1, 'v': 1, 'c': 1}\n"
     ]
    }
   ],
   "source": [
    "def kthlargest(s,k):\n",
    "    d={}\n",
    "    for i in s:\n",
    "        d[i]=s.count(i)\n",
    "    print (d)\n",
    "    values=d.values()\n",
    "    uniqvalues=set(values) #set is used to delete duplicate\n",
    "    sorted_values=uniqvalues[::-1]\n",
    "    value=sorted_values[k-1]\n",
    "    l=[]\n",
    "    \n",
    "    \n",
    "    \n",
    "    \n",
    "    \n",
    "t=int(input())\n",
    "for i in range(t):#for test cases\n",
    "    s=input() #input data string\n",
    "    k=int(input())# kth largest number\n",
    "kthlargest(s,k)\n",
    "    "
   ]
  },
  {
   "cell_type": "code",
   "execution_count": 3,
   "metadata": {},
   "outputs": [
    {
     "data": {
      "text/plain": [
       "5"
      ]
     },
     "execution_count": 3,
     "metadata": {},
     "output_type": "execute_result"
    }
   ],
   "source": [
    "#Function to the second largest number\n",
    "def secondlargest(li):\n",
    "    #convert list into a unique list\n",
    "    unique=[]\n",
    "    for n in li:\n",
    "        if n not in unique:\n",
    "            unique.append(n)\n",
    "    unique=sorted(unique,reverse=True) \n",
    "    return unique[1]\n",
    "secondlargest([1,2,3,4,5,8,2,5])"
   ]
  },
  {
   "cell_type": "code",
   "execution_count": 4,
   "metadata": {},
   "outputs": [
    {
     "data": {
      "text/plain": [
       "6"
      ]
     },
     "execution_count": 4,
     "metadata": {},
     "output_type": "execute_result"
    }
   ],
   "source": [
    "def fifthleast(li):\n",
    "    unique=[]\n",
    "    for n in li:\n",
    "        if n not in unique:\n",
    "            unique.append(n)\n",
    "    unique=sorted(unique) \n",
    "    return unique[5]\n",
    "fifthleast([1,2,3,4,5,6,6,5,1])  \n",
    "    "
   ]
  },
  {
   "cell_type": "markdown",
   "metadata": {},
   "source": [
    "### ksmallest"
   ]
  },
  {
   "cell_type": "code",
   "execution_count": 6,
   "metadata": {},
   "outputs": [
    {
     "data": {
      "text/plain": [
       "3"
      ]
     },
     "execution_count": 6,
     "metadata": {},
     "output_type": "execute_result"
    }
   ],
   "source": [
    "def ksmallest(li,k):\n",
    "    #extract unique elements in the list\n",
    "    unique=[]\n",
    "    for i in li:\n",
    "        if i not in unique:\n",
    "            unique.append(i)\n",
    "    #sort the unique list in descending order\n",
    "    unique=sorted(unique)\n",
    "    #check if length of unique list is greaterthan\n",
    "    if len(unique)>= k:\n",
    "        return unique[k-1]\n",
    "    return -1\n",
    "ksmallest([3,3,9],1)\n",
    "    \n",
    "    \n",
    "    "
   ]
  },
  {
   "cell_type": "markdown",
   "metadata": {},
   "source": [
    "### function to identify the element with highest frequency in a list\n"
   ]
  },
  {
   "cell_type": "code",
   "execution_count": 1,
   "metadata": {},
   "outputs": [
    {
     "data": {
      "text/plain": [
       "3"
      ]
     },
     "execution_count": 1,
     "metadata": {},
     "output_type": "execute_result"
    }
   ],
   "source": [
    "#function to identify the element with highest frequency in a list\n",
    "# if any elements have the highest frequency,retun the smallest\n",
    "#highest frequency of ([1,2,3,9,8,7,3,4,2,1])-->1\n",
    "def highestfrequencyelement(li):\n",
    "    unique={}\n",
    "    for i in li:\n",
    "        if i in unique:\n",
    "            unique[i]+=1\n",
    "        else:\n",
    "            unique[i]=1\n",
    "    #getting all frequencies into alist\n",
    "    freq=unique.values()\n",
    "    maxfreq=max(freq)\n",
    "    maxfreqE=[]\n",
    "    #identify the smallest number with maximum frequency\n",
    "    for item in unique.items():\n",
    "        if item[1]==maxfreq:\n",
    "            maxfreqE.append(item[0])\n",
    "            #select min mum from the keys with maximum frequency\n",
    "    return max(maxfreqE) #minfreqE[k-1]   \n",
    "        \n",
    "highestfrequencyelement([1,2,3,9,8,7,3,4,2,1])   \n",
    "    "
   ]
  },
  {
   "cell_type": "code",
   "execution_count": 31,
   "metadata": {},
   "outputs": [
    {
     "name": "stdout",
     "output_type": "stream",
     "text": [
      "[1]\n",
      "[1, 2]\n",
      "[1, 2, 3]\n"
     ]
    },
    {
     "data": {
      "text/plain": [
       "1"
      ]
     },
     "execution_count": 31,
     "metadata": {},
     "output_type": "execute_result"
    }
   ],
   "source": [
    "#minimum element with max frequency\n",
    "def minimumfrequencyelement(li):\n",
    "    #extracting the \n",
    "    unique={}\n",
    "    for i in li:\n",
    "        if i in unique:\n",
    "            unique[i]+=1\n",
    "        else:\n",
    "            unique[i]=1\n",
    "    #unique={1:2,2:2,3:2,9:1,8:1,7:1,4:1}        \n",
    "    maxfreq=max(unique.values())\n",
    "     #extract all keys with max freq in a list\n",
    "    maxfreqkeys=[]\n",
    "    for item in unique.items():\n",
    "        #item->(key,value)\n",
    "        #item[1]\n",
    "        if item[1]==maxfreq:\n",
    "            maxfreqkeys.append(item[0])\n",
    "            print(maxfreqkeys)\n",
    "    return min(maxfreqkeys)      \n",
    "minimumfrequencyelement([1,2,3,9,8,7,3,4,2,1])"
   ]
  },
  {
   "cell_type": "markdown",
   "metadata": {},
   "source": [
    "### second largest"
   ]
  },
  {
   "cell_type": "code",
   "execution_count": 30,
   "metadata": {},
   "outputs": [
    {
     "name": "stdout",
     "output_type": "stream",
     "text": [
      "[2, 1]\n",
      "[(3, 1), (9, 1)]\n"
     ]
    },
    {
     "data": {
      "text/plain": [
       "3"
      ]
     },
     "execution_count": 30,
     "metadata": {},
     "output_type": "execute_result"
    }
   ],
   "source": [
    "#function to identify second highest frequency element.\n",
    "#if there are many such elements,return the smallest\n",
    "#[1,2,3,2,1,4,4,9]->3\n",
    "def secondhighestfrequency(li,k):\n",
    "    #extracting the \n",
    "    unique={}\n",
    "    for i in li:\n",
    "        if i in unique:\n",
    "            unique[i]+=1\n",
    "            #print(unique)\n",
    "        else:\n",
    "            unique[i]=1\n",
    "    freq=sorted(set(unique.values()),reverse = True)\n",
    "    print(freq)\n",
    "    if len(freq)<1:\n",
    "        return-1\n",
    "    else:\n",
    "        secondmaxfreqkeys=[]\n",
    "        for item in unique.items():\n",
    "            if item[1]==freq[k-1]:\n",
    "                secondmaxfreqkeys.append(item)\n",
    "        print(secondmaxfreqkeys)\n",
    "        if len(secondmaxfreqkeys) >1:\n",
    "            secondmaxfreqkeys=sorted(secondmaxfreqkeys)\n",
    "            t=secondmaxfreqkeys[0]\n",
    "            return t[0]\n",
    "        else:\n",
    "            t=secondmaxfreqkeys[0]\n",
    "            return t[0]\n",
    "        \n",
    "            \n",
    "        \n",
    "secondhighestfrequency([1,2,3,2,1,4,4,9],2)\n",
    "            \n",
    "            "
   ]
  },
  {
   "cell_type": "code",
   "execution_count": 41,
   "metadata": {},
   "outputs": [
    {
     "name": "stdout",
     "output_type": "stream",
     "text": [
      "1\n",
      "1 2 3 4 2 1\n",
      "2\n",
      "[5, 2, 1]\n",
      "1\n"
     ]
    }
   ],
   "source": [
    "#function to identify kth highest frequency\n",
    "#if there are many such elements,return the \n",
    "#[9,8,7,6,5,2,3,4,9,6,7,7,7,6,7,6],k=4-->2\n",
    "def kthhighestfreq(s,k):\n",
    "    #unique character with frequencies \n",
    "    unique={}\n",
    "    for i in s:\n",
    "        if i in unique:\n",
    "            unique[i]+=1\n",
    "            #print(unique)\n",
    "        else:\n",
    "            unique[i]=1\n",
    "    freq=sorted(set(unique.values()),reverse = True) #[2 1]\n",
    "    print(freq)\n",
    "    if len(freq)<1:\n",
    "        return-1\n",
    "    else:\n",
    "        secondmaxfreqkeys=[]\n",
    "        for item in unique.items(): \n",
    "            if item[1]==freq[k-1]: \n",
    "                secondmaxfreqkeys.append(item[0])\n",
    "        #print(secondmaxfreqkeys)\n",
    "    return min(secondmaxfreqkeys)\n",
    "        \n",
    "        \n",
    "            \n",
    "t=int(input())\n",
    "for i in range(t):#for test cases\n",
    "    s=input() #input data string\n",
    "    k=int(input())# kth largest number\n",
    "    print(kthhighestfreq(s,k))\n",
    "    \n",
    "            "
   ]
  },
  {
   "cell_type": "code",
   "execution_count": null,
   "metadata": {},
   "outputs": [],
   "source": []
  }
 ],
 "metadata": {
  "kernelspec": {
   "display_name": "Python 3",
   "language": "python",
   "name": "python3"
  },
  "language_info": {
   "codemirror_mode": {
    "name": "ipython",
    "version": 3
   },
   "file_extension": ".py",
   "mimetype": "text/x-python",
   "name": "python",
   "nbconvert_exporter": "python",
   "pygments_lexer": "ipython3",
   "version": "3.7.3"
  }
 },
 "nbformat": 4,
 "nbformat_minor": 2
}

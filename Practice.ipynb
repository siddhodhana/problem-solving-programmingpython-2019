{
 "cells": [
  {
   "cell_type": "code",
   "execution_count": null,
   "metadata": {},
   "outputs": [],
   "source": [
    "s=\"mmdbnjnm\"\n",
    "l=[3,5,7,9]\n",
    "t=(2,5,7,0,5)\n",
    "d={1:3,3:5,7:8}\n"
   ]
  },
  {
   "cell_type": "code",
   "execution_count": null,
   "metadata": {},
   "outputs": [],
   "source": [
    "for i in l:\n",
    "    print(i)"
   ]
  },
  {
   "cell_type": "code",
   "execution_count": null,
   "metadata": {},
   "outputs": [],
   "source": [
    "for i in range(len(l)):# used for the replace 5 as 7\n",
    "    if l[i]==5:\n",
    "        l[i]=7"
   ]
  },
  {
   "cell_type": "code",
   "execution_count": null,
   "metadata": {},
   "outputs": [],
   "source": [
    "help(s.replace)\n"
   ]
  },
  {
   "cell_type": "code",
   "execution_count": null,
   "metadata": {},
   "outputs": [],
   "source": [
    "s.replace('m','b')"
   ]
  },
  {
   "cell_type": "markdown",
   "metadata": {},
   "source": [
    "### sum of elements\n"
   ]
  },
  {
   "cell_type": "code",
   "execution_count": null,
   "metadata": {},
   "outputs": [],
   "source": [
    "s=input().split()\n",
    "t=int(input())#Which is for test cases\n",
    "for i in range(t):\n",
    "    x=list(map(int,input().split()))#map which used to \n",
    "    total=0\n",
    "    for j in range (x[0],x[1]+1):\n",
    "        total+=int(s[j-1])\n",
    "    print(total)"
   ]
  },
  {
   "cell_type": "markdown",
   "metadata": {},
   "source": [
    "### Camilcase"
   ]
  },
  {
   "cell_type": "code",
   "execution_count": null,
   "metadata": {},
   "outputs": [],
   "source": [
    "# find the words from camil case\n",
    "t=int(input())#Which is for test cases\n",
    "for i in range(t):\n",
    "    b=input()\n",
    "    count=0\n",
    "    for j in b:\n",
    "        if j.isupper():\n",
    "            count+=1\n",
    "    print(count)        \n"
   ]
  },
  {
   "cell_type": "code",
   "execution_count": null,
   "metadata": {},
   "outputs": [],
   "source": [
    "#find the smallest character with Ascii value\n",
    "t=int(input())#Which is for test cases\n",
    "for i in range(t):\n",
    "    s=input()\n",
    "    l=[]\n",
    "    for i in s:\n",
    "        if i.isupper():\n",
    "            l.append(ord(i))\n",
    "        else:\n",
    "            l.append(ord(i))\n",
    "    print(min(l),chr(min(l)))\n",
    "        \n",
    "    \n"
   ]
  },
  {
   "cell_type": "code",
   "execution_count": null,
   "metadata": {},
   "outputs": [],
   "source": [
    "chr(70)"
   ]
  },
  {
   "cell_type": "code",
   "execution_count": null,
   "metadata": {},
   "outputs": [],
   "source": [
    "chr(85)"
   ]
  },
  {
   "cell_type": "code",
   "execution_count": null,
   "metadata": {},
   "outputs": [],
   "source": [
    "ord('a')"
   ]
  },
  {
   "cell_type": "code",
   "execution_count": null,
   "metadata": {},
   "outputs": [],
   "source": [
    "ord('A')"
   ]
  },
  {
   "cell_type": "code",
   "execution_count": 3,
   "metadata": {},
   "outputs": [
    {
     "name": "stdout",
     "output_type": "stream",
     "text": [
      "2\n",
      "1 2 3 4\n",
      "2.5\n",
      "1 2 3 4 5\n",
      "3\n"
     ]
    }
   ],
   "source": [
    "#find the middle value of given list if in case even length find the avg of 2 middle elements\n",
    "def middlevalue(li):\n",
    "    length=len(li)\n",
    "    if length%2==0:\n",
    "        print(((li[length//2]-1)+(li[length//2]))/2)\n",
    "    else:\n",
    "        print(li[length//2])\n",
    "        \n",
    "    \n",
    "t=int(input())#Which is for test cases\n",
    "for i in range(t):\n",
    "    li=list(map(int,input().split()))\n",
    "    middlevalue(li)"
   ]
  },
  {
   "cell_type": "code",
   "execution_count": null,
   "metadata": {},
   "outputs": [],
   "source": [
    "\n"
   ]
  },
  {
   "cell_type": "code",
   "execution_count": null,
   "metadata": {},
   "outputs": [],
   "source": []
  }
 ],
 "metadata": {
  "kernelspec": {
   "display_name": "Python 3",
   "language": "python",
   "name": "python3"
  },
  "language_info": {
   "codemirror_mode": {
    "name": "ipython",
    "version": 3
   },
   "file_extension": ".py",
   "mimetype": "text/x-python",
   "name": "python",
   "nbconvert_exporter": "python",
   "pygments_lexer": "ipython3",
   "version": "3.7.3"
  }
 },
 "nbformat": 4,
 "nbformat_minor": 2
}

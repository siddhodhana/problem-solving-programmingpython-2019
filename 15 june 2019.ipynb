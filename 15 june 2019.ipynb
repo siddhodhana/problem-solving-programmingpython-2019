{
 "cells": [
  {
   "cell_type": "code",
   "execution_count": null,
   "metadata": {},
   "outputs": [],
   "source": [
    "def cal(a,b,c):\n",
    "    for i in range(c,a-1,-1):\n",
    "        if i % a==b:\n",
    "            return i\n",
    "        return -1\n",
    "cal(3,2,9)   "
   ]
  },
  {
   "cell_type": "code",
   "execution_count": null,
   "metadata": {},
   "outputs": [],
   "source": [
    "li=[-1,-2,2,3]\n",
    "\n",
    "li.sort()\n",
    "pl=[]\n",
    "\n",
    "for i in li:\n",
    "    pl.append(abs(i))\n",
    "pl.sort()\n",
    "if pl[0] in li:\n",
    "    print(pl[0])\n",
    "else:\n",
    "    print(-pl(0))"
   ]
  },
  {
   "cell_type": "code",
   "execution_count": null,
   "metadata": {},
   "outputs": [],
   "source": [
    "li=[-1,-2,2,3,1]\n",
    "li.sort()\n",
    "pl=[]\n",
    "\n",
    "for i in li:\n",
    "    pl.append(abs(i))\n",
    "pl.sort()\n",
    "if pl[-1] in li:\n",
    "    print(pl[-1])\n",
    "else:\n",
    "    print(-pl[-1])\n",
    "    "
   ]
  },
  {
   "cell_type": "code",
   "execution_count": 17,
   "metadata": {},
   "outputs": [
    {
     "name": "stdout",
     "output_type": "stream",
     "text": [
      "121\n",
      "YES\n"
     ]
    }
   ],
   "source": [
    "def palindrome(s):\n",
    "    for i in (str(len(s))):\n",
    "        if s[::-1]== s[0::]:\n",
    "            return \"YES\"\n",
    "    return \"NO\"\n",
    "s=input(str())\n",
    "print(palindrome(s))      \n"
   ]
  },
  {
   "cell_type": "code",
   "execution_count": 7,
   "metadata": {},
   "outputs": [
    {
     "name": "stdout",
     "output_type": "stream",
     "text": [
      "9\n",
      "2 3 5 7 "
     ]
    }
   ],
   "source": [
    "def isprime(n):\n",
    "    for i in range(2,n):\n",
    "        if n%i==0:\n",
    "            return False\n",
    "    return True\n",
    "def printPrime(n):\n",
    "    for i in range(2,n):\n",
    "        if isprime(i):\n",
    "            print(i,end=\" \")\n",
    "    else:\n",
    "        return\n",
    "n=int(input())\n",
    "printPrime(n)"
   ]
  },
  {
   "cell_type": "code",
   "execution_count": 8,
   "metadata": {},
   "outputs": [],
   "source": [
    "def twostrings(s1,s2):\n",
    "    sorted[s1]"
   ]
  },
  {
   "cell_type": "code",
   "execution_count": 14,
   "metadata": {},
   "outputs": [
    {
     "name": "stdout",
     "output_type": "stream",
     "text": [
      "['d', 'd', 'i', 's', 'u']\n"
     ]
    }
   ],
   "source": [
    "s1=\"siddu\"\n",
    "a=sorted(s1)\n",
    "print(a)\n"
   ]
  },
  {
   "cell_type": "code",
   "execution_count": 15,
   "metadata": {},
   "outputs": [
    {
     "name": "stdout",
     "output_type": "stream",
     "text": [
      "8\n",
      "2 3 5 7 "
     ]
    }
   ],
   "source": [
    "def isprime(n):\n",
    "    for i in range(2,n):\n",
    "        if n%i==0:\n",
    "            return False\n",
    "    return True\n",
    "def printPrime(n):\n",
    "    for i in range(2,n):\n",
    "        if isprime(i):\n",
    "            print(i,end=\" \")\n",
    "    else:\n",
    "        return\n",
    "n=int(input())\n",
    "printPrime(n)\n",
    "        "
   ]
  },
  {
   "cell_type": "code",
   "execution_count": 16,
   "metadata": {},
   "outputs": [
    {
     "name": "stdout",
     "output_type": "stream",
     "text": [
      "121\n",
      "YES\n"
     ]
    }
   ],
   "source": [
    "d=input()\n",
    "a=d\n",
    "a=a[::-1]\n",
    "\n",
    "    \n",
    "def palindrome(a,d):\n",
    "    if a==d:\n",
    "        print(\"YES\")\n",
    "    else:\n",
    "        print(\"NO\")\n",
    "\n",
    "palindrome(a,d)"
   ]
  },
  {
   "cell_type": "code",
   "execution_count": null,
   "metadata": {},
   "outputs": [],
   "source": [
    "def countDevisors(i,r,k):\n",
    "   count=0\n",
    "   for n in range (i,r+1):\n",
    "       if n%k==0:\n",
    "           count=count+1\n",
    "   return count\n",
    "#countDevisors(i,r,k)\n",
    "s=input()\n",
    "s=s.split()\n",
    "i=int(s[0])\n",
    "r=int(s[1])\n",
    "k=int(s[2])\n",
    "print(countDevisors(i,r,k))\n"
   ]
  },
  {
   "cell_type": "code",
   "execution_count": null,
   "metadata": {},
   "outputs": [],
   "source": []
  }
 ],
 "metadata": {
  "kernelspec": {
   "display_name": "Python 3",
   "language": "python",
   "name": "python3"
  },
  "language_info": {
   "codemirror_mode": {
    "name": "ipython",
    "version": 3
   },
   "file_extension": ".py",
   "mimetype": "text/x-python",
   "name": "python",
   "nbconvert_exporter": "python",
   "pygments_lexer": "ipython3",
   "version": "3.7.3"
  }
 },
 "nbformat": 4,
 "nbformat_minor": 2
}

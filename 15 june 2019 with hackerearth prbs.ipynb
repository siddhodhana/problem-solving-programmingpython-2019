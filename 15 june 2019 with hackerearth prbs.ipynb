{
 "cells": [
  {
   "cell_type": "code",
   "execution_count": null,
   "metadata": {},
   "outputs": [],
   "source": [
    "def cal(a,b,c):\n",
    "    for i in range(c,a-1,-1):\n",
    "        if i % a==b:\n",
    "            return i\n",
    "        return -1\n",
    "cal(3,2,9)   "
   ]
  },
  {
   "cell_type": "code",
   "execution_count": null,
   "metadata": {},
   "outputs": [],
   "source": [
    "li=[-1,-2,2,3]\n",
    "\n",
    "li.sort()\n",
    "pl=[]\n",
    "\n",
    "for i in li:\n",
    "    pl.append(abs(i))\n",
    "pl.sort()\n",
    "if pl[0] in li:\n",
    "    print(pl[0])\n",
    "else:\n",
    "    print(-pl(0))"
   ]
  },
  {
   "cell_type": "code",
   "execution_count": null,
   "metadata": {},
   "outputs": [],
   "source": [
    "li=[-1,-2,2,3,1]\n",
    "li.sort()\n",
    "pl=[]\n",
    "\n",
    "for i in li:\n",
    "    pl.append(abs(i))\n",
    "pl.sort()\n",
    "if pl[-1] in li:\n",
    "    print(pl[-1])\n",
    "else:\n",
    "    print(-pl[-1])\n",
    "    "
   ]
  },
  {
   "cell_type": "code",
   "execution_count": null,
   "metadata": {},
   "outputs": [],
   "source": [
    "def palindrome(s):\n",
    "    for i in (str(len(s))):\n",
    "        if s[::-1]== s[0::]:\n",
    "            return \"YES\"\n",
    "    return \"NO\"\n",
    "s=input(str())\n",
    "print(palindrome(s))      \n"
   ]
  },
  {
   "cell_type": "code",
   "execution_count": null,
   "metadata": {},
   "outputs": [],
   "source": [
    "def isprime(n):\n",
    "    for i in range(2,n):\n",
    "        if n%i==0:\n",
    "            return False\n",
    "    return True\n",
    "def printPrime(n):\n",
    "    for i in range(2,n):\n",
    "        if isprime(i):\n",
    "            print(i,end=\" \")\n",
    "    else:\n",
    "        return\n",
    "n=int(input())\n",
    "printPrime(n)"
   ]
  },
  {
   "cell_type": "code",
   "execution_count": null,
   "metadata": {},
   "outputs": [],
   "source": [
    "def twostrings(s1,s2):\n",
    "    sorted[s1]"
   ]
  },
  {
   "cell_type": "code",
   "execution_count": null,
   "metadata": {},
   "outputs": [],
   "source": [
    "s1=\"siddu\"\n",
    "a=sorted(s1)\n",
    "print(a)\n"
   ]
  },
  {
   "cell_type": "code",
   "execution_count": null,
   "metadata": {},
   "outputs": [],
   "source": [
    "def isprime(n):\n",
    "    for i in range(2,n):\n",
    "        if n%i==0:\n",
    "            return False\n",
    "    return True\n",
    "def printPrime(n):\n",
    "    for i in range(2,n):\n",
    "        if isprime(i):\n",
    "            print(i,end=\" \")\n",
    "    else:\n",
    "        return\n",
    "n=int(input())\n",
    "printPrime(n)\n",
    "        "
   ]
  },
  {
   "cell_type": "code",
   "execution_count": null,
   "metadata": {},
   "outputs": [],
   "source": [
    "d=input()\n",
    "a=d\n",
    "a=a[::-1]\n",
    "\n",
    "    \n",
    "def palindrome(a,d):\n",
    "    if a==d:\n",
    "        print(\"YES\")\n",
    "    else:\n",
    "        print(\"NO\")\n",
    "\n",
    "palindrome(a,d)"
   ]
  },
  {
   "cell_type": "code",
   "execution_count": null,
   "metadata": {},
   "outputs": [],
   "source": [
    "def countDevisors(i,r,k):\n",
    "   count=0\n",
    "   for n in range (i,r+1):\n",
    "       if n%k==0:\n",
    "           count=count+1\n",
    "   return count\n",
    "#countDevisors(i,r,k)\n",
    "s=input()\n",
    "s=s.split()\n",
    "i=int(s[0])\n",
    "r=int(s[1])\n",
    "k=int(s[2])\n",
    "print(countDevisors(i,r,k))\n"
   ]
  },
  {
   "cell_type": "code",
   "execution_count": null,
   "metadata": {},
   "outputs": [],
   "source": [
    "def isprime(n):\n",
    "    for i in range(2,n):\n",
    "        if n%i==0:\n",
    "            return False\n",
    "    return True\n",
    "def printPrime(n):\n",
    "    for i in range(2,n):\n",
    "        if isprime(i):\n",
    "            print(i,end=\" \")\n",
    "    else:\n",
    "        return\n",
    "n=int(input())\n",
    "printPrime(n)\n",
    "        "
   ]
  },
  {
   "cell_type": "code",
   "execution_count": null,
   "metadata": {},
   "outputs": [],
   "source": [
    "#palindrome\n",
    "d=input()\n",
    "a=d\n",
    "a=a[::-1]\n",
    "\n",
    "    \n",
    "def palindrome(a,d):\n",
    "    if a==d:\n",
    "        print(\"YES\")\n",
    "    else:\n",
    "        print(\"NO\")\n",
    "\n",
    "palindrome(a,d)"
   ]
  },
  {
   "cell_type": "code",
   "execution_count": null,
   "metadata": {},
   "outputs": [],
   "source": [
    "def factorial(n):\n",
    "    f=1\n",
    "    for i in range(1,n+1):\n",
    "        f=f*i\n",
    "    print(f)\n",
    "n=int(input())\n",
    "factorial(n)\n",
    "    "
   ]
  },
  {
   "cell_type": "code",
   "execution_count": null,
   "metadata": {},
   "outputs": [],
   "source": [
    "#toggle string\n",
    "def upper(S):\n",
    "    return S.swapcase()\n",
    "S=input()\n",
    "print(upper(S))"
   ]
  },
  {
   "cell_type": "code",
   "execution_count": null,
   "metadata": {},
   "outputs": [],
   "source": [
    "def twostrings(s1,s2):\n",
    "    a=sorted(s1)\n",
    "    b=sorted(s2)\n",
    "    if a==b:\n",
    "         print(\"YES\")\n",
    "    else:\n",
    "        print(\"NO\")\n",
    "y=input()\n",
    "y=int(y)\n",
    "for i in range(y):\n",
    "    s=input().split()\n",
    "    s1=s[0]\n",
    "    s2=s[1]\n",
    "    twostrings(s1,s2)\n",
    "\n"
   ]
  },
  {
   "cell_type": "code",
   "execution_count": null,
   "metadata": {},
   "outputs": [],
   "source": [
    "#book of portion macking\n",
    "def string(s):\n",
    "    i=1\n",
    "    sum=0\n",
    "    for siddu in s:\n",
    "        siddu=int(siddu)*i\n",
    "        sum=sum+siddu\n",
    "        i=i+1\n",
    "    if(sum%11==0):\n",
    "        print(\"Legal ISBN\")\n",
    "    else:\n",
    "        print(\"Illegal ISBN\")\n",
    "s=input()\n",
    "string(s)"
   ]
  },
  {
   "cell_type": "code",
   "execution_count": 1,
   "metadata": {},
   "outputs": [
    {
     "data": {
      "text/plain": [
       "'AbC'"
      ]
     },
     "execution_count": 1,
     "metadata": {},
     "output_type": "execute_result"
    }
   ],
   "source": [
    "def togglestring(s):\n",
    "    s=list(s)\n",
    "    t=[]\n",
    "    for i in s:\n",
    "        if i.islower():\n",
    "            t.append(i.upper())\n",
    "        else:\n",
    "            t.append(i.lower())\n",
    "    return \"\".join(t)\n",
    "togglestring(\"aBc\")\n"
   ]
  },
  {
   "cell_type": "code",
   "execution_count": null,
   "metadata": {},
   "outputs": [],
   "source": [
    "def minutsdifference(s):\n",
    "    s=s.split\n",
    "    sh=int(s[0])\n",
    "    sm=int(s[1])\n",
    "    eh=int(s[2])\n",
    "    em=int(s[3])\n",
    "    startminuts=(sh*60)+sm\n",
    "    endminuts=(eh*60)+em\n",
    "    "
   ]
  }
 ],
 "metadata": {
  "kernelspec": {
   "display_name": "Python 3",
   "language": "python",
   "name": "python3"
  },
  "language_info": {
   "codemirror_mode": {
    "name": "ipython",
    "version": 3
   },
   "file_extension": ".py",
   "mimetype": "text/x-python",
   "name": "python",
   "nbconvert_exporter": "python",
   "pygments_lexer": "ipython3",
   "version": "3.7.3"
  }
 },
 "nbformat": 4,
 "nbformat_minor": 2
}

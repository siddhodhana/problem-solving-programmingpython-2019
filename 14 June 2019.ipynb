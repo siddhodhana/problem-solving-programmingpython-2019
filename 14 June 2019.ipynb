{
 "cells": [
  {
   "cell_type": "markdown",
   "metadata": {},
   "source": [
    "# Problem Solving and Programming in Python\n",
    "\n",
    "### date:14/june 2019\n",
    "\n",
    "### Day Objects\n",
    "\n",
    "- Python Data Structures\n",
    "- Lists\n",
    "- Tuples\n",
    "- Dictionaries\n",
    "- Basic Problem set on Data Structures\n",
    "- Advanced Problem Set\n",
    "- Packages and Modules in Python"
   ]
  },
  {
   "cell_type": "markdown",
   "metadata": {},
   "source": [
    "# Python Data Structures\n",
    "\n",
    "### Lists"
   ]
  },
  {
   "cell_type": "code",
   "execution_count": 79,
   "metadata": {},
   "outputs": [
    {
     "name": "stdout",
     "output_type": "stream",
     "text": [
      "-1\n"
     ]
    }
   ],
   "source": [
    "li=[123,978,654]\n",
    "li # access the entire list\n",
    "li[1] #access an element with index value in\n",
    "\n",
    "li[1:]  \n",
    "li[2]\n",
    "li[0]\n",
    "li[0:3]\n",
    "li[3:0]\n",
    "li[2:0:-1]\n",
    "\n",
    "li=li[::-1] # reversing the list elements\n",
    "li\n",
    "li=li[::-1]\n",
    "li\n",
    "\n",
    "li[::2]#even index elements\n",
    "\n",
    "li[1::2]\n",
    "\n",
    "#list can be manipulated in two different ways\n",
    "#direct referencing --[index]\n",
    "#Indirect referencing --through functions\n",
    "\n",
    "#adding element to end of the list\n",
    "li.append(345) #append is the list\n",
    "li\n",
    "li.insert(1,234) #adding in 2nd location\n",
    "\n",
    "li\n",
    "\n",
    "li.sort()  # ascending order\n",
    "li\n",
    "li.pop()# remove the last element in list\n",
    "\n",
    "#remove element at particular index\n",
    "li.pop(1)\n",
    "li\n",
    "\n",
    "\n",
    "li2=[234,456,789]\n",
    "\n",
    "li.extend(li2)#merge list 2 into list 1\n",
    "li\n",
    "\n",
    "sum(li) #sum of all in list\n",
    "max(li) #max num in list\n",
    "min(li)\n",
    "len(li)\n",
    "\n",
    "#avg of list elements \n",
    "sum(li)/len(li)\n",
    "\n",
    "#avg of all alternate elements\n",
    "sum(li[::2])/len(li[1::2])\n",
    "\n",
    "max(li)-1\n",
    "try:\n",
    "    li.index(1000)\n",
    "except:\n",
    "    print(-1)"
   ]
  },
  {
   "cell_type": "code",
   "execution_count": 58,
   "metadata": {},
   "outputs": [
    {
     "name": "stdout",
     "output_type": "stream",
     "text": [
      "[8, 6, 5, 4, 1]\n"
     ]
    },
    {
     "data": {
      "text/plain": [
       "6"
      ]
     },
     "execution_count": 58,
     "metadata": {},
     "output_type": "execute_result"
    }
   ],
   "source": [
    "#Function to identify the second largest element in list\n",
    "      #sortdata and select second last element\n",
    "      #sort data in reverse order,and select the \n",
    "     #remove the max element and than get the max\n",
    "     #\n",
    "def secondlargest(li):\n",
    "    li.sort()\n",
    "    li=li[::-1]\n",
    "    print (li)\n",
    "    return li[1]\n",
    "\n",
    "secondlargest([1,6,4,8,5])\n",
    "\n",
    "def secondlargest(li):\n",
    "    li.sort()\n",
    "    return li[-2]\n",
    "\n",
    "secondlargest([1,6,4,8,5])\n",
    "    "
   ]
  },
  {
   "cell_type": "code",
   "execution_count": 68,
   "metadata": {},
   "outputs": [
    {
     "data": {
      "text/plain": [
       "345"
      ]
     },
     "execution_count": 68,
     "metadata": {},
     "output_type": "execute_result"
    }
   ],
   "source": [
    "#function returns the nth largest\n",
    "def genericLargest(li,n):\n",
    "    li.sort()\n",
    "    r=li[-n]\n",
    "    return r\n",
    "genericLargest(li,4)"
   ]
  },
  {
   "cell_type": "code",
   "execution_count": 82,
   "metadata": {},
   "outputs": [
    {
     "data": {
      "text/plain": [
       "5"
      ]
     },
     "execution_count": 82,
     "metadata": {},
     "output_type": "execute_result"
    }
   ],
   "source": [
    "#function to search for data in a list\n",
    "#search for the key and return index of the key.return -1 if key not found\n",
    "def linearsearch(li,key):\n",
    "    if key not in li:\n",
    "        return -1\n",
    "    return li.index(key)\n",
    "linearsearch(li,24)\n",
    "\n",
    "\n",
    "#another way\n",
    "def linearsearch(li,key):\n",
    "    for element in li:\n",
    "         if element==key:\n",
    "                return li.index(element)\n",
    "    return -1\n",
    "linearsearch(li,234)\n",
    "\n",
    "#another way\n",
    "def linearsearch3(li,key):\n",
    "    if key in li:\n",
    "        return li.index(key)\n",
    "    \n",
    "linearsearch(li,789)\n",
    "    "
   ]
  },
  {
   "cell_type": "code",
   "execution_count": 83,
   "metadata": {},
   "outputs": [
    {
     "data": {
      "text/plain": [
       "1"
      ]
     },
     "execution_count": 83,
     "metadata": {},
     "output_type": "execute_result"
    }
   ],
   "source": [
    "# function to count the occurances of a character in a string\n",
    "#\"python programming\",m -->2\n",
    "def countcharoccurances(s,c): #girisha inwhich s means girisha and c means what we want the letter occurances\n",
    "    count=0\n",
    "    for ch in string:\n",
    "        if ch==c:\n",
    "            count+=1\n",
    "    return count\n",
    "\n",
    "def countcharoccurances2(s,c):\n",
    "    return s.count(c)\n",
    "\n",
    "countcharoccurances2(\"python programming\",'py')        \n",
    "    \n",
    "    "
   ]
  },
  {
   "cell_type": "code",
   "execution_count": 84,
   "metadata": {},
   "outputs": [
    {
     "name": "stdout",
     "output_type": "stream",
     "text": [
      "g\n",
      "f\n",
      "h\n",
      "n\n",
      "f\n",
      "j\n",
      "m\n"
     ]
    }
   ],
   "source": [
    "for ch in \"gfhnfjm\":\n",
    "    print(ch)"
   ]
  },
  {
   "cell_type": "code",
   "execution_count": 87,
   "metadata": {},
   "outputs": [
    {
     "data": {
      "text/plain": [
       "2"
      ]
     },
     "execution_count": 87,
     "metadata": {},
     "output_type": "execute_result"
    }
   ],
   "source": [
    "#function to find the number of occurances in the sub string\n",
    "#\"abcabcddcba\",\"ab\"--->2\n",
    "def countcharoccurances2(s,ab):\n",
    "    return s.count(ab)\n",
    "countcharoccurances2(\"abcabcddcba\",'ab')"
   ]
  },
  {
   "cell_type": "code",
   "execution_count": 12,
   "metadata": {},
   "outputs": [
    {
     "data": {
      "text/plain": [
       "5"
      ]
     },
     "execution_count": 12,
     "metadata": {},
     "output_type": "execute_result"
    }
   ],
   "source": [
    "def addition(a,b):\n",
    "    n=a+b\n",
    "    return n\n",
    "addition(2,3)        \n",
    "        \n",
    "        "
   ]
  },
  {
   "cell_type": "code",
   "execution_count": null,
   "metadata": {},
   "outputs": [],
   "source": []
  }
 ],
 "metadata": {
  "kernelspec": {
   "display_name": "Python 3",
   "language": "python",
   "name": "python3"
  },
  "language_info": {
   "codemirror_mode": {
    "name": "ipython",
    "version": 3
   },
   "file_extension": ".py",
   "mimetype": "text/x-python",
   "name": "python",
   "nbconvert_exporter": "python",
   "pygments_lexer": "ipython3",
   "version": "3.7.3"
  }
 },
 "nbformat": 4,
 "nbformat_minor": 2
}
